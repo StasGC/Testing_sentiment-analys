{
  "nbformat": 4,
  "nbformat_minor": 0,
  "metadata": {
    "kernelspec": {
      "display_name": "Python 3",
      "language": "python",
      "name": "python3"
    },
    "language_info": {
      "codemirror_mode": {
        "name": "ipython",
        "version": 3
      },
      "file_extension": ".py",
      "mimetype": "text/x-python",
      "name": "python",
      "nbconvert_exporter": "python",
      "pygments_lexer": "ipython3",
      "version": "3.8.5"
    },
    "colab": {
      "name": "sentiment-analys.ipynb",
      "provenance": [],
      "toc_visible": true
    }
  },
  "cells": [
    {
      "cell_type": "code",
      "metadata": {
        "colab": {
          "base_uri": "https://localhost:8080/"
        },
        "id": "ZDHv3Kgahppi",
        "outputId": "5c422c1b-92ab-474e-cb6a-0c966b18d4f4"
      },
      "source": [
        "!pip install transformers"
      ],
      "execution_count": 24,
      "outputs": [
        {
          "output_type": "stream",
          "text": [
            "Requirement already satisfied: transformers in /usr/local/lib/python3.6/dist-packages (4.3.2)\n",
            "Requirement already satisfied: importlib-metadata; python_version < \"3.8\" in /usr/local/lib/python3.6/dist-packages (from transformers) (3.4.0)\n",
            "Requirement already satisfied: requests in /usr/local/lib/python3.6/dist-packages (from transformers) (2.23.0)\n",
            "Requirement already satisfied: dataclasses; python_version < \"3.7\" in /usr/local/lib/python3.6/dist-packages (from transformers) (0.8)\n",
            "Requirement already satisfied: tqdm>=4.27 in /usr/local/lib/python3.6/dist-packages (from transformers) (4.41.1)\n",
            "Requirement already satisfied: packaging in /usr/local/lib/python3.6/dist-packages (from transformers) (20.9)\n",
            "Requirement already satisfied: numpy>=1.17 in /usr/local/lib/python3.6/dist-packages (from transformers) (1.19.5)\n",
            "Requirement already satisfied: filelock in /usr/local/lib/python3.6/dist-packages (from transformers) (3.0.12)\n",
            "Requirement already satisfied: sacremoses in /usr/local/lib/python3.6/dist-packages (from transformers) (0.0.43)\n",
            "Requirement already satisfied: regex!=2019.12.17 in /usr/local/lib/python3.6/dist-packages (from transformers) (2019.12.20)\n",
            "Requirement already satisfied: tokenizers<0.11,>=0.10.1 in /usr/local/lib/python3.6/dist-packages (from transformers) (0.10.1)\n",
            "Requirement already satisfied: typing-extensions>=3.6.4; python_version < \"3.8\" in /usr/local/lib/python3.6/dist-packages (from importlib-metadata; python_version < \"3.8\"->transformers) (3.7.4.3)\n",
            "Requirement already satisfied: zipp>=0.5 in /usr/local/lib/python3.6/dist-packages (from importlib-metadata; python_version < \"3.8\"->transformers) (3.4.0)\n",
            "Requirement already satisfied: certifi>=2017.4.17 in /usr/local/lib/python3.6/dist-packages (from requests->transformers) (2020.12.5)\n",
            "Requirement already satisfied: urllib3!=1.25.0,!=1.25.1,<1.26,>=1.21.1 in /usr/local/lib/python3.6/dist-packages (from requests->transformers) (1.24.3)\n",
            "Requirement already satisfied: chardet<4,>=3.0.2 in /usr/local/lib/python3.6/dist-packages (from requests->transformers) (3.0.4)\n",
            "Requirement already satisfied: idna<3,>=2.5 in /usr/local/lib/python3.6/dist-packages (from requests->transformers) (2.10)\n",
            "Requirement already satisfied: pyparsing>=2.0.2 in /usr/local/lib/python3.6/dist-packages (from packaging->transformers) (2.4.7)\n",
            "Requirement already satisfied: joblib in /usr/local/lib/python3.6/dist-packages (from sacremoses->transformers) (1.0.0)\n",
            "Requirement already satisfied: click in /usr/local/lib/python3.6/dist-packages (from sacremoses->transformers) (7.1.2)\n",
            "Requirement already satisfied: six in /usr/local/lib/python3.6/dist-packages (from sacremoses->transformers) (1.15.0)\n"
          ],
          "name": "stdout"
        }
      ]
    },
    {
      "cell_type": "code",
      "metadata": {
        "colab": {
          "base_uri": "https://localhost:8080/"
        },
        "id": "MYREQAKmhppl",
        "outputId": "c4e56cc5-8100-4de8-963a-197e6ce1eb35"
      },
      "source": [
        "!pip install torch===1.7.1 torchvision===0.8.2 torchaudio===0.7.2 -f https://download.pytorch.org/whl/torch_stable.html"
      ],
      "execution_count": 25,
      "outputs": [
        {
          "output_type": "stream",
          "text": [
            "Looking in links: https://download.pytorch.org/whl/torch_stable.html\n",
            "Requirement already satisfied: torch===1.7.1 in /usr/local/lib/python3.6/dist-packages (1.7.1)\n",
            "Requirement already satisfied: torchvision===0.8.2 in /usr/local/lib/python3.6/dist-packages (0.8.2)\n",
            "Requirement already satisfied: torchaudio===0.7.2 in /usr/local/lib/python3.6/dist-packages (0.7.2)\n",
            "Requirement already satisfied: dataclasses; python_version < \"3.7\" in /usr/local/lib/python3.6/dist-packages (from torch===1.7.1) (0.8)\n",
            "Requirement already satisfied: numpy in /usr/local/lib/python3.6/dist-packages (from torch===1.7.1) (1.19.5)\n",
            "Requirement already satisfied: typing-extensions in /usr/local/lib/python3.6/dist-packages (from torch===1.7.1) (3.7.4.3)\n",
            "Requirement already satisfied: pillow>=4.1.1 in /usr/local/lib/python3.6/dist-packages (from torchvision===0.8.2) (7.0.0)\n"
          ],
          "name": "stdout"
        }
      ]
    },
    {
      "cell_type": "code",
      "metadata": {
        "id": "LYsQ24CPhppn"
      },
      "source": [
        "import numpy as np\n",
        "import pandas as pd\n",
        "import re\n",
        "from sklearn.model_selection import train_test_split\n",
        "from sklearn.linear_model import LogisticRegression\n",
        "from sklearn.model_selection import GridSearchCV\n",
        "from sklearn.model_selection import cross_val_score\n",
        "import torch\n",
        "import transformers\n",
        "import matplotlib.pyplot as plt\n",
        "import seaborn as sns\n",
        "import warnings\n",
        "warnings.filterwarnings('ignore')"
      ],
      "execution_count": 26,
      "outputs": []
    },
    {
      "cell_type": "markdown",
      "metadata": {
        "id": "MdZHW8bUhppn"
      },
      "source": [
        "# Importing and preprocessing datasets"
      ]
    },
    {
      "cell_type": "code",
      "metadata": {
        "id": "zvpdG5Pdhppo"
      },
      "source": [
        "pos_df = pd.read_csv('positive.csv', delimiter=';', header=None)\n",
        "neg_df = pd.read_csv('negative.csv', delimiter=';', header=None)"
      ],
      "execution_count": 27,
      "outputs": []
    },
    {
      "cell_type": "code",
      "metadata": {
        "colab": {
          "base_uri": "https://localhost:8080/",
          "height": 343
        },
        "id": "YhIXOTaDhppp",
        "outputId": "0c11bd7e-e001-4987-eb74-5028258f87a7"
      },
      "source": [
        "pos_df.head(10)"
      ],
      "execution_count": 28,
      "outputs": [
        {
          "output_type": "execute_result",
          "data": {
            "text/html": [
              "<div>\n",
              "<style scoped>\n",
              "    .dataframe tbody tr th:only-of-type {\n",
              "        vertical-align: middle;\n",
              "    }\n",
              "\n",
              "    .dataframe tbody tr th {\n",
              "        vertical-align: top;\n",
              "    }\n",
              "\n",
              "    .dataframe thead th {\n",
              "        text-align: right;\n",
              "    }\n",
              "</style>\n",
              "<table border=\"1\" class=\"dataframe\">\n",
              "  <thead>\n",
              "    <tr style=\"text-align: right;\">\n",
              "      <th></th>\n",
              "      <th>0</th>\n",
              "      <th>1</th>\n",
              "      <th>2</th>\n",
              "      <th>3</th>\n",
              "      <th>4</th>\n",
              "      <th>5</th>\n",
              "      <th>6</th>\n",
              "      <th>7</th>\n",
              "      <th>8</th>\n",
              "      <th>9</th>\n",
              "      <th>10</th>\n",
              "      <th>11</th>\n",
              "    </tr>\n",
              "  </thead>\n",
              "  <tbody>\n",
              "    <tr>\n",
              "      <th>0</th>\n",
              "      <td>408906692374446080</td>\n",
              "      <td>1386325927</td>\n",
              "      <td>pleease_shut_up</td>\n",
              "      <td>@first_timee хоть я и школота, но поверь, у на...</td>\n",
              "      <td>1</td>\n",
              "      <td>0</td>\n",
              "      <td>0</td>\n",
              "      <td>0</td>\n",
              "      <td>7569</td>\n",
              "      <td>62</td>\n",
              "      <td>61</td>\n",
              "      <td>0</td>\n",
              "    </tr>\n",
              "    <tr>\n",
              "      <th>1</th>\n",
              "      <td>408906692693221377</td>\n",
              "      <td>1386325927</td>\n",
              "      <td>alinakirpicheva</td>\n",
              "      <td>Да, все-таки он немного похож на него. Но мой ...</td>\n",
              "      <td>1</td>\n",
              "      <td>0</td>\n",
              "      <td>0</td>\n",
              "      <td>0</td>\n",
              "      <td>11825</td>\n",
              "      <td>59</td>\n",
              "      <td>31</td>\n",
              "      <td>2</td>\n",
              "    </tr>\n",
              "    <tr>\n",
              "      <th>2</th>\n",
              "      <td>408906695083954177</td>\n",
              "      <td>1386325927</td>\n",
              "      <td>EvgeshaRe</td>\n",
              "      <td>RT @KatiaCheh: Ну ты идиотка) я испугалась за ...</td>\n",
              "      <td>1</td>\n",
              "      <td>0</td>\n",
              "      <td>1</td>\n",
              "      <td>0</td>\n",
              "      <td>1273</td>\n",
              "      <td>26</td>\n",
              "      <td>27</td>\n",
              "      <td>0</td>\n",
              "    </tr>\n",
              "    <tr>\n",
              "      <th>3</th>\n",
              "      <td>408906695356973056</td>\n",
              "      <td>1386325927</td>\n",
              "      <td>ikonnikova_21</td>\n",
              "      <td>RT @digger2912: \"Кто то в углу сидит и погибае...</td>\n",
              "      <td>1</td>\n",
              "      <td>0</td>\n",
              "      <td>1</td>\n",
              "      <td>0</td>\n",
              "      <td>1549</td>\n",
              "      <td>19</td>\n",
              "      <td>17</td>\n",
              "      <td>0</td>\n",
              "    </tr>\n",
              "    <tr>\n",
              "      <th>4</th>\n",
              "      <td>408906761416867842</td>\n",
              "      <td>1386325943</td>\n",
              "      <td>JumpyAlex</td>\n",
              "      <td>@irina_dyshkant Вот что значит страшилка :D\\nН...</td>\n",
              "      <td>1</td>\n",
              "      <td>0</td>\n",
              "      <td>0</td>\n",
              "      <td>0</td>\n",
              "      <td>597</td>\n",
              "      <td>16</td>\n",
              "      <td>23</td>\n",
              "      <td>1</td>\n",
              "    </tr>\n",
              "    <tr>\n",
              "      <th>5</th>\n",
              "      <td>408906761769598976</td>\n",
              "      <td>1386325943</td>\n",
              "      <td>JustinB94262583</td>\n",
              "      <td>ну любишь или нет? — Я не знаю кто ты бля:D ht...</td>\n",
              "      <td>1</td>\n",
              "      <td>0</td>\n",
              "      <td>0</td>\n",
              "      <td>0</td>\n",
              "      <td>40</td>\n",
              "      <td>6</td>\n",
              "      <td>16</td>\n",
              "      <td>0</td>\n",
              "    </tr>\n",
              "    <tr>\n",
              "      <th>6</th>\n",
              "      <td>408906762436481024</td>\n",
              "      <td>1386325943</td>\n",
              "      <td>twinkleAYO</td>\n",
              "      <td>RT @SpoonLamer: Ох,900 :D ну это конечно же @t...</td>\n",
              "      <td>1</td>\n",
              "      <td>0</td>\n",
              "      <td>1</td>\n",
              "      <td>0</td>\n",
              "      <td>5169</td>\n",
              "      <td>58</td>\n",
              "      <td>43</td>\n",
              "      <td>2</td>\n",
              "    </tr>\n",
              "    <tr>\n",
              "      <th>7</th>\n",
              "      <td>408906764114206720</td>\n",
              "      <td>1386325944</td>\n",
              "      <td>pycalyruhog</td>\n",
              "      <td>RT @veregijytaqo: У тебя есть ухажёр? Нет - мо...</td>\n",
              "      <td>1</td>\n",
              "      <td>0</td>\n",
              "      <td>2</td>\n",
              "      <td>0</td>\n",
              "      <td>393</td>\n",
              "      <td>112</td>\n",
              "      <td>153</td>\n",
              "      <td>0</td>\n",
              "    </tr>\n",
              "    <tr>\n",
              "      <th>8</th>\n",
              "      <td>408906764608749568</td>\n",
              "      <td>1386325944</td>\n",
              "      <td>grishintv</td>\n",
              "      <td>Поприветствуем моего нового читателя @Alexey17...</td>\n",
              "      <td>1</td>\n",
              "      <td>0</td>\n",
              "      <td>0</td>\n",
              "      <td>0</td>\n",
              "      <td>5872</td>\n",
              "      <td>1387</td>\n",
              "      <td>1431</td>\n",
              "      <td>12</td>\n",
              "    </tr>\n",
              "    <tr>\n",
              "      <th>9</th>\n",
              "      <td>408906765841870848</td>\n",
              "      <td>1386325944</td>\n",
              "      <td>alina_612</td>\n",
              "      <td>Теперь у меня есть частичка Сиднея :) #Sydney ...</td>\n",
              "      <td>1</td>\n",
              "      <td>0</td>\n",
              "      <td>0</td>\n",
              "      <td>0</td>\n",
              "      <td>263</td>\n",
              "      <td>5</td>\n",
              "      <td>36</td>\n",
              "      <td>0</td>\n",
              "    </tr>\n",
              "  </tbody>\n",
              "</table>\n",
              "</div>"
            ],
            "text/plain": [
              "                   0           1                2   ...    9     10  11\n",
              "0  408906692374446080  1386325927  pleease_shut_up  ...    62    61   0\n",
              "1  408906692693221377  1386325927  alinakirpicheva  ...    59    31   2\n",
              "2  408906695083954177  1386325927        EvgeshaRe  ...    26    27   0\n",
              "3  408906695356973056  1386325927    ikonnikova_21  ...    19    17   0\n",
              "4  408906761416867842  1386325943        JumpyAlex  ...    16    23   1\n",
              "5  408906761769598976  1386325943  JustinB94262583  ...     6    16   0\n",
              "6  408906762436481024  1386325943       twinkleAYO  ...    58    43   2\n",
              "7  408906764114206720  1386325944      pycalyruhog  ...   112   153   0\n",
              "8  408906764608749568  1386325944        grishintv  ...  1387  1431  12\n",
              "9  408906765841870848  1386325944        alina_612  ...     5    36   0\n",
              "\n",
              "[10 rows x 12 columns]"
            ]
          },
          "metadata": {
            "tags": []
          },
          "execution_count": 28
        }
      ]
    },
    {
      "cell_type": "code",
      "metadata": {
        "colab": {
          "base_uri": "https://localhost:8080/",
          "height": 343
        },
        "id": "7PGhTNqUhppq",
        "outputId": "f8b7dc87-2557-400b-bdcb-ed34c1b63122"
      },
      "source": [
        "df = pd.concat([pos_df, neg_df], ignore_index=True).sample(frac=1).reset_index(drop=True)\n",
        "df.head(10)"
      ],
      "execution_count": 29,
      "outputs": [
        {
          "output_type": "execute_result",
          "data": {
            "text/html": [
              "<div>\n",
              "<style scoped>\n",
              "    .dataframe tbody tr th:only-of-type {\n",
              "        vertical-align: middle;\n",
              "    }\n",
              "\n",
              "    .dataframe tbody tr th {\n",
              "        vertical-align: top;\n",
              "    }\n",
              "\n",
              "    .dataframe thead th {\n",
              "        text-align: right;\n",
              "    }\n",
              "</style>\n",
              "<table border=\"1\" class=\"dataframe\">\n",
              "  <thead>\n",
              "    <tr style=\"text-align: right;\">\n",
              "      <th></th>\n",
              "      <th>0</th>\n",
              "      <th>1</th>\n",
              "      <th>2</th>\n",
              "      <th>3</th>\n",
              "      <th>4</th>\n",
              "      <th>5</th>\n",
              "      <th>6</th>\n",
              "      <th>7</th>\n",
              "      <th>8</th>\n",
              "      <th>9</th>\n",
              "      <th>10</th>\n",
              "      <th>11</th>\n",
              "    </tr>\n",
              "  </thead>\n",
              "  <tbody>\n",
              "    <tr>\n",
              "      <th>0</th>\n",
              "      <td>409488839615721472</td>\n",
              "      <td>1386464721</td>\n",
              "      <td>ZaycevSV</td>\n",
              "      <td>Хоть я и пьяный, но мне похуй что будет когда ...</td>\n",
              "      <td>1</td>\n",
              "      <td>0</td>\n",
              "      <td>0</td>\n",
              "      <td>0</td>\n",
              "      <td>7717</td>\n",
              "      <td>41</td>\n",
              "      <td>35</td>\n",
              "      <td>1</td>\n",
              "    </tr>\n",
              "    <tr>\n",
              "      <th>1</th>\n",
              "      <td>419468633702547456</td>\n",
              "      <td>1388844090</td>\n",
              "      <td>0kisel0</td>\n",
              "      <td>хочу посмотреть какой-нибудь фильм, а вот не з...</td>\n",
              "      <td>-1</td>\n",
              "      <td>0</td>\n",
              "      <td>0</td>\n",
              "      <td>0</td>\n",
              "      <td>7236</td>\n",
              "      <td>613</td>\n",
              "      <td>603</td>\n",
              "      <td>6</td>\n",
              "    </tr>\n",
              "    <tr>\n",
              "      <th>2</th>\n",
              "      <td>424055682867138560</td>\n",
              "      <td>1389937728</td>\n",
              "      <td>deonmonroeixywk</td>\n",
              "      <td>блииин почему мне не приходит приглашение на т...</td>\n",
              "      <td>-1</td>\n",
              "      <td>0</td>\n",
              "      <td>0</td>\n",
              "      <td>0</td>\n",
              "      <td>2</td>\n",
              "      <td>0</td>\n",
              "      <td>0</td>\n",
              "      <td>0</td>\n",
              "    </tr>\n",
              "    <tr>\n",
              "      <th>3</th>\n",
              "      <td>409947468202119168</td>\n",
              "      <td>1386574067</td>\n",
              "      <td>bystrov_sasha</td>\n",
              "      <td>@pianistkawlw Доброго тебе денечка, ну все мен...</td>\n",
              "      <td>1</td>\n",
              "      <td>0</td>\n",
              "      <td>0</td>\n",
              "      <td>0</td>\n",
              "      <td>4721</td>\n",
              "      <td>7951</td>\n",
              "      <td>4081</td>\n",
              "      <td>62</td>\n",
              "    </tr>\n",
              "    <tr>\n",
              "      <th>4</th>\n",
              "      <td>411539471365332993</td>\n",
              "      <td>1386953630</td>\n",
              "      <td>Anonim_dk</td>\n",
              "      <td>@mental_collapse полистай ленту, я тут сам с с...</td>\n",
              "      <td>-1</td>\n",
              "      <td>0</td>\n",
              "      <td>0</td>\n",
              "      <td>0</td>\n",
              "      <td>13270</td>\n",
              "      <td>2698</td>\n",
              "      <td>284</td>\n",
              "      <td>25</td>\n",
              "    </tr>\n",
              "    <tr>\n",
              "      <th>5</th>\n",
              "      <td>409433845025366016</td>\n",
              "      <td>1386451610</td>\n",
              "      <td>violinist_Ann</td>\n",
              "      <td>@katy_deniska Да? А хотела чудной получится:) ...</td>\n",
              "      <td>1</td>\n",
              "      <td>0</td>\n",
              "      <td>0</td>\n",
              "      <td>0</td>\n",
              "      <td>1704</td>\n",
              "      <td>48</td>\n",
              "      <td>55</td>\n",
              "      <td>2</td>\n",
              "    </tr>\n",
              "    <tr>\n",
              "      <th>6</th>\n",
              "      <td>409489559672848384</td>\n",
              "      <td>1386464893</td>\n",
              "      <td>ValentineAdiyak</td>\n",
              "      <td>RT @zhenya721: ПЛАКАТ ВОЛИ \\n#Євромайдан #Евро...</td>\n",
              "      <td>1</td>\n",
              "      <td>0</td>\n",
              "      <td>20</td>\n",
              "      <td>0</td>\n",
              "      <td>3004</td>\n",
              "      <td>64</td>\n",
              "      <td>63</td>\n",
              "      <td>1</td>\n",
              "    </tr>\n",
              "    <tr>\n",
              "      <th>7</th>\n",
              "      <td>411209836559626240</td>\n",
              "      <td>1386875039</td>\n",
              "      <td>margof_a</td>\n",
              "      <td>RT @Polina_16_07: всё последняя серия просмотр...</td>\n",
              "      <td>-1</td>\n",
              "      <td>0</td>\n",
              "      <td>1</td>\n",
              "      <td>0</td>\n",
              "      <td>1058</td>\n",
              "      <td>44</td>\n",
              "      <td>30</td>\n",
              "      <td>0</td>\n",
              "    </tr>\n",
              "    <tr>\n",
              "      <th>8</th>\n",
              "      <td>410135139000537089</td>\n",
              "      <td>1386618811</td>\n",
              "      <td>_just_amazing_</td>\n",
              "      <td>@ChestersCat я не намекал на тебя :D мне недав...</td>\n",
              "      <td>1</td>\n",
              "      <td>0</td>\n",
              "      <td>0</td>\n",
              "      <td>0</td>\n",
              "      <td>1859</td>\n",
              "      <td>182</td>\n",
              "      <td>142</td>\n",
              "      <td>2</td>\n",
              "    </tr>\n",
              "    <tr>\n",
              "      <th>9</th>\n",
              "      <td>422957287763116032</td>\n",
              "      <td>1389675850</td>\n",
              "      <td>DashaMalikovna</td>\n",
              "      <td>Так херово когда в школе разряжается телеф:(((</td>\n",
              "      <td>-1</td>\n",
              "      <td>0</td>\n",
              "      <td>0</td>\n",
              "      <td>0</td>\n",
              "      <td>885</td>\n",
              "      <td>544</td>\n",
              "      <td>594</td>\n",
              "      <td>1</td>\n",
              "    </tr>\n",
              "  </tbody>\n",
              "</table>\n",
              "</div>"
            ],
            "text/plain": [
              "                   0           1                2   ...    9     10  11\n",
              "0  409488839615721472  1386464721         ZaycevSV  ...    41    35   1\n",
              "1  419468633702547456  1388844090          0kisel0  ...   613   603   6\n",
              "2  424055682867138560  1389937728  deonmonroeixywk  ...     0     0   0\n",
              "3  409947468202119168  1386574067    bystrov_sasha  ...  7951  4081  62\n",
              "4  411539471365332993  1386953630        Anonim_dk  ...  2698   284  25\n",
              "5  409433845025366016  1386451610    violinist_Ann  ...    48    55   2\n",
              "6  409489559672848384  1386464893  ValentineAdiyak  ...    64    63   1\n",
              "7  411209836559626240  1386875039         margof_a  ...    44    30   0\n",
              "8  410135139000537089  1386618811   _just_amazing_  ...   182   142   2\n",
              "9  422957287763116032  1389675850   DashaMalikovna  ...   544   594   1\n",
              "\n",
              "[10 rows x 12 columns]"
            ]
          },
          "metadata": {
            "tags": []
          },
          "execution_count": 29
        }
      ]
    },
    {
      "cell_type": "code",
      "metadata": {
        "colab": {
          "base_uri": "https://localhost:8080/",
          "height": 343
        },
        "id": "tHLW2VUyhppr",
        "outputId": "060e1b0c-3224-4d21-9f47-55e3044da53d"
      },
      "source": [
        "df = df[df.columns[3:5]]\n",
        "df.columns = [0,1]\n",
        "df.head(10)"
      ],
      "execution_count": 30,
      "outputs": [
        {
          "output_type": "execute_result",
          "data": {
            "text/html": [
              "<div>\n",
              "<style scoped>\n",
              "    .dataframe tbody tr th:only-of-type {\n",
              "        vertical-align: middle;\n",
              "    }\n",
              "\n",
              "    .dataframe tbody tr th {\n",
              "        vertical-align: top;\n",
              "    }\n",
              "\n",
              "    .dataframe thead th {\n",
              "        text-align: right;\n",
              "    }\n",
              "</style>\n",
              "<table border=\"1\" class=\"dataframe\">\n",
              "  <thead>\n",
              "    <tr style=\"text-align: right;\">\n",
              "      <th></th>\n",
              "      <th>0</th>\n",
              "      <th>1</th>\n",
              "    </tr>\n",
              "  </thead>\n",
              "  <tbody>\n",
              "    <tr>\n",
              "      <th>0</th>\n",
              "      <td>Хоть я и пьяный, но мне похуй что будет когда ...</td>\n",
              "      <td>1</td>\n",
              "    </tr>\n",
              "    <tr>\n",
              "      <th>1</th>\n",
              "      <td>хочу посмотреть какой-нибудь фильм, а вот не з...</td>\n",
              "      <td>-1</td>\n",
              "    </tr>\n",
              "    <tr>\n",
              "      <th>2</th>\n",
              "      <td>блииин почему мне не приходит приглашение на т...</td>\n",
              "      <td>-1</td>\n",
              "    </tr>\n",
              "    <tr>\n",
              "      <th>3</th>\n",
              "      <td>@pianistkawlw Доброго тебе денечка, ну все мен...</td>\n",
              "      <td>1</td>\n",
              "    </tr>\n",
              "    <tr>\n",
              "      <th>4</th>\n",
              "      <td>@mental_collapse полистай ленту, я тут сам с с...</td>\n",
              "      <td>-1</td>\n",
              "    </tr>\n",
              "    <tr>\n",
              "      <th>5</th>\n",
              "      <td>@katy_deniska Да? А хотела чудной получится:) ...</td>\n",
              "      <td>1</td>\n",
              "    </tr>\n",
              "    <tr>\n",
              "      <th>6</th>\n",
              "      <td>RT @zhenya721: ПЛАКАТ ВОЛИ \\n#Євромайдан #Евро...</td>\n",
              "      <td>1</td>\n",
              "    </tr>\n",
              "    <tr>\n",
              "      <th>7</th>\n",
              "      <td>RT @Polina_16_07: всё последняя серия просмотр...</td>\n",
              "      <td>-1</td>\n",
              "    </tr>\n",
              "    <tr>\n",
              "      <th>8</th>\n",
              "      <td>@ChestersCat я не намекал на тебя :D мне недав...</td>\n",
              "      <td>1</td>\n",
              "    </tr>\n",
              "    <tr>\n",
              "      <th>9</th>\n",
              "      <td>Так херово когда в школе разряжается телеф:(((</td>\n",
              "      <td>-1</td>\n",
              "    </tr>\n",
              "  </tbody>\n",
              "</table>\n",
              "</div>"
            ],
            "text/plain": [
              "                                                   0  1\n",
              "0  Хоть я и пьяный, но мне похуй что будет когда ...  1\n",
              "1  хочу посмотреть какой-нибудь фильм, а вот не з... -1\n",
              "2  блииин почему мне не приходит приглашение на т... -1\n",
              "3  @pianistkawlw Доброго тебе денечка, ну все мен...  1\n",
              "4  @mental_collapse полистай ленту, я тут сам с с... -1\n",
              "5  @katy_deniska Да? А хотела чудной получится:) ...  1\n",
              "6  RT @zhenya721: ПЛАКАТ ВОЛИ \\n#Євромайдан #Евро...  1\n",
              "7  RT @Polina_16_07: всё последняя серия просмотр... -1\n",
              "8  @ChestersCat я не намекал на тебя :D мне недав...  1\n",
              "9     Так херово когда в школе разряжается телеф:((( -1"
            ]
          },
          "metadata": {
            "tags": []
          },
          "execution_count": 30
        }
      ]
    },
    {
      "cell_type": "code",
      "metadata": {
        "colab": {
          "base_uri": "https://localhost:8080/"
        },
        "id": "c8VN7Se9hpps",
        "outputId": "66041745-5965-4837-f89e-217651b25ba7"
      },
      "source": [
        "df.shape"
      ],
      "execution_count": 31,
      "outputs": [
        {
          "output_type": "execute_result",
          "data": {
            "text/plain": [
              "(226834, 2)"
            ]
          },
          "metadata": {
            "tags": []
          },
          "execution_count": 31
        }
      ]
    },
    {
      "cell_type": "code",
      "metadata": {
        "id": "Z4uJELaDhppt"
      },
      "source": [
        "import re\n",
        "\n",
        "def preprocess1(text):\n",
        "        \"\"\"Minimal text preprocessing\n",
        "        \"\"\"\n",
        "        text = re.sub(\"^\\s+|([A-Za-z])+|(@[A-Za-z0-9\\_\\-]+)|\\n|\\r|\\s+$\", ' ', text)\n",
        "        return text.strip()\n",
        "\n",
        "\n",
        "def preprocess2(num):\n",
        "    if num == -1:\n",
        "        return 0\n",
        "    else:\n",
        "        return num"
      ],
      "execution_count": 32,
      "outputs": []
    },
    {
      "cell_type": "code",
      "metadata": {
        "id": "nVV8IDsvhppu"
      },
      "source": [
        "df[0] = df.apply(lambda x: preprocess1(x[0]), axis=1)\n",
        "df[1] = df.apply(lambda y: preprocess2(y[1]), axis=1)"
      ],
      "execution_count": 33,
      "outputs": []
    },
    {
      "cell_type": "code",
      "metadata": {
        "colab": {
          "base_uri": "https://localhost:8080/",
          "height": 343
        },
        "id": "23T5Sbphhppu",
        "outputId": "6973da6d-c3a2-41e0-abaf-fcbfe26fa572"
      },
      "source": [
        "df.head(10)"
      ],
      "execution_count": 34,
      "outputs": [
        {
          "output_type": "execute_result",
          "data": {
            "text/html": [
              "<div>\n",
              "<style scoped>\n",
              "    .dataframe tbody tr th:only-of-type {\n",
              "        vertical-align: middle;\n",
              "    }\n",
              "\n",
              "    .dataframe tbody tr th {\n",
              "        vertical-align: top;\n",
              "    }\n",
              "\n",
              "    .dataframe thead th {\n",
              "        text-align: right;\n",
              "    }\n",
              "</style>\n",
              "<table border=\"1\" class=\"dataframe\">\n",
              "  <thead>\n",
              "    <tr style=\"text-align: right;\">\n",
              "      <th></th>\n",
              "      <th>0</th>\n",
              "      <th>1</th>\n",
              "    </tr>\n",
              "  </thead>\n",
              "  <tbody>\n",
              "    <tr>\n",
              "      <th>0</th>\n",
              "      <td>Хоть я и пьяный, но мне похуй что будет когда ...</td>\n",
              "      <td>1</td>\n",
              "    </tr>\n",
              "    <tr>\n",
              "      <th>1</th>\n",
              "      <td>хочу посмотреть какой-нибудь фильм, а вот не з...</td>\n",
              "      <td>0</td>\n",
              "    </tr>\n",
              "    <tr>\n",
              "      <th>2</th>\n",
              "      <td>блииин почему мне не приходит приглашение на т...</td>\n",
              "      <td>0</td>\n",
              "    </tr>\n",
              "    <tr>\n",
              "      <th>3</th>\n",
              "      <td>Доброго тебе денечка, ну все меняют, ты тоже ))</td>\n",
              "      <td>1</td>\n",
              "    </tr>\n",
              "    <tr>\n",
              "      <th>4</th>\n",
              "      <td>полистай ленту, я тут сам с собой разговаривю,...</td>\n",
              "      <td>0</td>\n",
              "    </tr>\n",
              "    <tr>\n",
              "      <th>5</th>\n",
              "      <td>Да? А хотела чудной получится:) благодарю)</td>\n",
              "      <td>1</td>\n",
              "    </tr>\n",
              "    <tr>\n",
              "      <th>6</th>\n",
              "      <td>: ПЛАКАТ ВОЛИ  #Євромайдан #Евромайдан #  #Укр...</td>\n",
              "      <td>1</td>\n",
              "    </tr>\n",
              "    <tr>\n",
              "      <th>7</th>\n",
              "      <td>: всё последняя серия просмотренна( ждём 2 сез...</td>\n",
              "      <td>0</td>\n",
              "    </tr>\n",
              "    <tr>\n",
              "      <th>8</th>\n",
              "      <td>я не намекал на тебя :  мне недавно кто-то пис...</td>\n",
              "      <td>1</td>\n",
              "    </tr>\n",
              "    <tr>\n",
              "      <th>9</th>\n",
              "      <td>Так херово когда в школе разряжается телеф:(((</td>\n",
              "      <td>0</td>\n",
              "    </tr>\n",
              "  </tbody>\n",
              "</table>\n",
              "</div>"
            ],
            "text/plain": [
              "                                                   0  1\n",
              "0  Хоть я и пьяный, но мне похуй что будет когда ...  1\n",
              "1  хочу посмотреть какой-нибудь фильм, а вот не з...  0\n",
              "2  блииин почему мне не приходит приглашение на т...  0\n",
              "3    Доброго тебе денечка, ну все меняют, ты тоже ))  1\n",
              "4  полистай ленту, я тут сам с собой разговаривю,...  0\n",
              "5         Да? А хотела чудной получится:) благодарю)  1\n",
              "6  : ПЛАКАТ ВОЛИ  #Євромайдан #Евромайдан #  #Укр...  1\n",
              "7  : всё последняя серия просмотренна( ждём 2 сез...  0\n",
              "8  я не намекал на тебя :  мне недавно кто-то пис...  1\n",
              "9     Так херово когда в школе разряжается телеф:(((  0"
            ]
          },
          "metadata": {
            "tags": []
          },
          "execution_count": 34
        }
      ]
    },
    {
      "cell_type": "code",
      "metadata": {
        "colab": {
          "base_uri": "https://localhost:8080/"
        },
        "id": "xZH8Envlhppu",
        "outputId": "1e082e38-873a-44bd-9c7e-772adeb2afa9"
      },
      "source": [
        "df[1].value_counts()"
      ],
      "execution_count": 35,
      "outputs": [
        {
          "output_type": "execute_result",
          "data": {
            "text/plain": [
              "1    114911\n",
              "0    111923\n",
              "Name: 1, dtype: int64"
            ]
          },
          "metadata": {
            "tags": []
          },
          "execution_count": 35
        }
      ]
    },
    {
      "cell_type": "code",
      "metadata": {
        "colab": {
          "base_uri": "https://localhost:8080/"
        },
        "id": "xK-5hf__hppv",
        "outputId": "03ad226a-8a8b-45a6-d993-beda3562ecdd"
      },
      "source": [
        "df = df[:2000]\r\n",
        "df[1].value_counts()"
      ],
      "execution_count": 36,
      "outputs": [
        {
          "output_type": "execute_result",
          "data": {
            "text/plain": [
              "0    1013\n",
              "1     987\n",
              "Name: 1, dtype: int64"
            ]
          },
          "metadata": {
            "tags": []
          },
          "execution_count": 36
        }
      ]
    },
    {
      "cell_type": "code",
      "metadata": {
        "colab": {
          "base_uri": "https://localhost:8080/",
          "height": 402
        },
        "id": "1sjkFhU4iG2y",
        "outputId": "ad1b2c9f-67f7-4d9a-c2cb-71dcb0e65920"
      },
      "source": [
        "df"
      ],
      "execution_count": 37,
      "outputs": [
        {
          "output_type": "execute_result",
          "data": {
            "text/html": [
              "<div>\n",
              "<style scoped>\n",
              "    .dataframe tbody tr th:only-of-type {\n",
              "        vertical-align: middle;\n",
              "    }\n",
              "\n",
              "    .dataframe tbody tr th {\n",
              "        vertical-align: top;\n",
              "    }\n",
              "\n",
              "    .dataframe thead th {\n",
              "        text-align: right;\n",
              "    }\n",
              "</style>\n",
              "<table border=\"1\" class=\"dataframe\">\n",
              "  <thead>\n",
              "    <tr style=\"text-align: right;\">\n",
              "      <th></th>\n",
              "      <th>0</th>\n",
              "      <th>1</th>\n",
              "    </tr>\n",
              "  </thead>\n",
              "  <tbody>\n",
              "    <tr>\n",
              "      <th>0</th>\n",
              "      <td>Хоть я и пьяный, но мне похуй что будет когда ...</td>\n",
              "      <td>1</td>\n",
              "    </tr>\n",
              "    <tr>\n",
              "      <th>1</th>\n",
              "      <td>хочу посмотреть какой-нибудь фильм, а вот не з...</td>\n",
              "      <td>0</td>\n",
              "    </tr>\n",
              "    <tr>\n",
              "      <th>2</th>\n",
              "      <td>блииин почему мне не приходит приглашение на т...</td>\n",
              "      <td>0</td>\n",
              "    </tr>\n",
              "    <tr>\n",
              "      <th>3</th>\n",
              "      <td>Доброго тебе денечка, ну все меняют, ты тоже ))</td>\n",
              "      <td>1</td>\n",
              "    </tr>\n",
              "    <tr>\n",
              "      <th>4</th>\n",
              "      <td>полистай ленту, я тут сам с собой разговаривю,...</td>\n",
              "      <td>0</td>\n",
              "    </tr>\n",
              "    <tr>\n",
              "      <th>...</th>\n",
              "      <td>...</td>\n",
              "      <td>...</td>\n",
              "    </tr>\n",
              "    <tr>\n",
              "      <th>1995</th>\n",
              "      <td>:   будь оптимистичнее:  а если вернуться в ре...</td>\n",
              "      <td>1</td>\n",
              "    </tr>\n",
              "    <tr>\n",
              "      <th>1996</th>\n",
              "      <td>Жаль...#ПечальБедаОбидаааа((</td>\n",
              "      <td>0</td>\n",
              "    </tr>\n",
              "    <tr>\n",
              "      <th>1997</th>\n",
              "      <td>что у психолога из битвы экстрасенсов с ухом? ...</td>\n",
              "      <td>1</td>\n",
              "    </tr>\n",
              "    <tr>\n",
              "      <th>1998</th>\n",
              "      <td>Нижний Тагил, за две недельки сквозь метель и ...</td>\n",
              "      <td>0</td>\n",
              "    </tr>\n",
              "    <tr>\n",
              "      <th>1999</th>\n",
              "      <td>То, что не умеет большая часть яблофонов в Рос...</td>\n",
              "      <td>0</td>\n",
              "    </tr>\n",
              "  </tbody>\n",
              "</table>\n",
              "<p>2000 rows × 2 columns</p>\n",
              "</div>"
            ],
            "text/plain": [
              "                                                      0  1\n",
              "0     Хоть я и пьяный, но мне похуй что будет когда ...  1\n",
              "1     хочу посмотреть какой-нибудь фильм, а вот не з...  0\n",
              "2     блииин почему мне не приходит приглашение на т...  0\n",
              "3       Доброго тебе денечка, ну все меняют, ты тоже ))  1\n",
              "4     полистай ленту, я тут сам с собой разговаривю,...  0\n",
              "...                                                 ... ..\n",
              "1995  :   будь оптимистичнее:  а если вернуться в ре...  1\n",
              "1996                       Жаль...#ПечальБедаОбидаааа((  0\n",
              "1997  что у психолога из битвы экстрасенсов с ухом? ...  1\n",
              "1998  Нижний Тагил, за две недельки сквозь метель и ...  0\n",
              "1999  То, что не умеет большая часть яблофонов в Рос...  0\n",
              "\n",
              "[2000 rows x 2 columns]"
            ]
          },
          "metadata": {
            "tags": []
          },
          "execution_count": 37
        }
      ]
    },
    {
      "cell_type": "markdown",
      "metadata": {
        "id": "RCmOFtvYhppv"
      },
      "source": [
        "# Loading model"
      ]
    },
    {
      "cell_type": "code",
      "metadata": {
        "id": "3naBAhBdhppv"
      },
      "source": [
        "model_name = \"DeepPavlov/rubert-base-cased-conversational\"\n",
        "\n",
        "tokenizer = transformers.AutoTokenizer.from_pretrained(model_name)\n",
        "model = transformers.AutoModel.from_pretrained(model_name)"
      ],
      "execution_count": 38,
      "outputs": []
    },
    {
      "cell_type": "markdown",
      "metadata": {
        "id": "CVvLFpsHhppw"
      },
      "source": [
        "# Preparing the Dataset"
      ]
    },
    {
      "cell_type": "code",
      "metadata": {
        "id": "9P03R-Pqhppx"
      },
      "source": [
        "tokenized = df[0].apply((lambda x: tokenizer.encode(x, add_special_tokens=True)))"
      ],
      "execution_count": 39,
      "outputs": []
    },
    {
      "cell_type": "code",
      "metadata": {
        "id": "mSPUYsEdhppx"
      },
      "source": [
        "max_len = 0\n",
        "for i in tokenized.values:\n",
        "    if len(i) > max_len:\n",
        "        max_len = len(i)\n",
        "\n",
        "padded = np.array([i + [0]*(max_len-len(i)) for i in tokenized.values])"
      ],
      "execution_count": 40,
      "outputs": []
    },
    {
      "cell_type": "code",
      "metadata": {
        "colab": {
          "base_uri": "https://localhost:8080/"
        },
        "id": "FXdi4OV5hppx",
        "outputId": "fa180683-362b-4a50-b7bf-67b5ea637820"
      },
      "source": [
        "np.array(padded).shape"
      ],
      "execution_count": 41,
      "outputs": [
        {
          "output_type": "execute_result",
          "data": {
            "text/plain": [
              "(2000, 85)"
            ]
          },
          "metadata": {
            "tags": []
          },
          "execution_count": 41
        }
      ]
    },
    {
      "cell_type": "code",
      "metadata": {
        "colab": {
          "base_uri": "https://localhost:8080/"
        },
        "id": "ZCeV7FKHhppy",
        "outputId": "29a822cf-76c7-4437-bf0d-360d7a22d6b1"
      },
      "source": [
        "attention_mask = np.where(padded != 0, 1, 0)\n",
        "attention_mask.shape"
      ],
      "execution_count": 42,
      "outputs": [
        {
          "output_type": "execute_result",
          "data": {
            "text/plain": [
              "(2000, 85)"
            ]
          },
          "metadata": {
            "tags": []
          },
          "execution_count": 42
        }
      ]
    },
    {
      "cell_type": "markdown",
      "metadata": {
        "id": "FV723WvYhppz"
      },
      "source": [
        "## Train"
      ]
    },
    {
      "cell_type": "code",
      "metadata": {
        "id": "x0UBorfXhppz"
      },
      "source": [
        "input_ids = torch.tensor(padded).to(torch.int64)\n",
        "attention_mask = torch.tensor(attention_mask)\n",
        "\n",
        "with torch.no_grad():\n",
        "    last_hidden_states = model(input_ids, attention_mask=attention_mask)"
      ],
      "execution_count": 43,
      "outputs": []
    },
    {
      "cell_type": "code",
      "metadata": {
        "colab": {
          "base_uri": "https://localhost:8080/"
        },
        "id": "P4_QMSx4p5dK",
        "outputId": "6da34054-d31d-4048-ddb6-d95c6c7fe4db"
      },
      "source": [
        "last_hidden_states"
      ],
      "execution_count": 45,
      "outputs": [
        {
          "output_type": "execute_result",
          "data": {
            "text/plain": [
              "BaseModelOutputWithPoolingAndCrossAttentions([('last_hidden_state',\n",
              "                                               tensor([[[-0.9619, -0.5944, -1.3825,  ..., -0.4565,  0.7429, -0.8798],\n",
              "                                                        [-0.0252, -0.5442, -0.6860,  ...,  0.7248,  0.6427, -0.7226],\n",
              "                                                        [ 0.2336, -0.4209,  0.0240,  ...,  1.1019, -0.0944, -0.5097],\n",
              "                                                        ...,\n",
              "                                                        [ 0.8168,  0.0303, -0.1852,  ...,  0.5600,  0.3229, -0.4293],\n",
              "                                                        [ 0.8068, -0.1295, -0.1604,  ...,  0.4700,  0.6295, -0.6259],\n",
              "                                                        [ 0.6892, -0.1400, -0.1225,  ...,  0.4719,  0.4329, -0.5205]],\n",
              "                                               \n",
              "                                                       [[ 0.5160,  0.6477, -1.6605,  ...,  0.6959,  0.2367, -0.1971],\n",
              "                                                        [ 0.8480,  0.1661, -0.9429,  ...,  0.6783, -0.0256,  0.2106],\n",
              "                                                        [ 0.5840,  0.1173, -0.9398,  ...,  0.7724,  0.1950,  0.3945],\n",
              "                                                        ...,\n",
              "                                                        [ 0.7562,  0.4262, -0.3563,  ...,  0.5621,  0.2306,  0.2964],\n",
              "                                                        [ 1.1082,  0.7506, -0.2644,  ...,  0.5356,  0.2313,  0.0726],\n",
              "                                                        [ 1.0087,  0.6803, -0.3942,  ...,  0.4258,  0.3530,  0.0925]],\n",
              "                                               \n",
              "                                                       [[-0.3993, -0.1089, -1.2849,  ..., -0.6950,  0.3888, -0.9907],\n",
              "                                                        [-0.0188,  0.0795, -0.5707,  ...,  0.3258, -0.0518, -0.7371],\n",
              "                                                        [ 0.0410, -0.2641, -0.6621,  ..., -0.3017, -0.1358, -0.3973],\n",
              "                                                        ...,\n",
              "                                                        [ 0.4024, -0.1721, -0.8515,  ..., -0.4388,  0.4287, -0.6012],\n",
              "                                                        [ 0.2664, -0.0919, -0.5777,  ..., -0.7000,  0.7058, -0.8600],\n",
              "                                                        [ 0.2352, -0.0996, -0.7110,  ..., -0.6514,  0.5257, -0.9488]],\n",
              "                                               \n",
              "                                                       ...,\n",
              "                                               \n",
              "                                                       [[-0.0351, -0.0696, -0.1582,  ...,  0.3949,  0.5555, -0.2071],\n",
              "                                                        [-0.4605, -0.8124,  1.7485,  ...,  1.7978, -0.4571,  0.4924],\n",
              "                                                        [ 0.2106, -0.5677,  0.9268,  ...,  1.3486,  0.5553,  0.8776],\n",
              "                                                        ...,\n",
              "                                                        [-0.0793,  0.4782,  0.8357,  ...,  0.7792,  0.2168, -0.8668],\n",
              "                                                        [-0.1159,  0.0189,  0.0677,  ...,  0.0985,  0.7595, -0.3191],\n",
              "                                                        [-0.1925,  0.1501,  1.0641,  ...,  0.5829,  0.5667, -0.5473]],\n",
              "                                               \n",
              "                                                       [[ 0.4580, -0.2758, -0.3733,  ...,  0.5413, -0.0811, -0.1392],\n",
              "                                                        [-0.0653, -0.6197, -0.5002,  ...,  0.5844,  0.4250,  0.4873],\n",
              "                                                        [-0.2240, -0.7317, -0.4991,  ...,  0.5791, -0.1039, -0.0180],\n",
              "                                                        ...,\n",
              "                                                        [ 0.2954, -0.0252, -0.5381,  ...,  0.6715,  0.2875, -0.4907],\n",
              "                                                        [ 0.3413, -0.2464, -0.5406,  ...,  0.7690,  0.3006, -0.3990],\n",
              "                                                        [ 0.3765, -0.6169, -0.7415,  ...,  1.0114,  0.2203, -0.4572]],\n",
              "                                               \n",
              "                                                       [[-0.5995, -0.2048, -0.0865,  ..., -0.3021,  1.1441, -0.0841],\n",
              "                                                        [ 0.2479, -0.7066,  0.0032,  ...,  0.1807,  0.2086, -0.8094],\n",
              "                                                        [ 0.4499, -0.9206, -0.5197,  ...,  0.3035,  0.2670, -0.3716],\n",
              "                                                        ...,\n",
              "                                                        [ 0.5059, -0.2839,  0.6305,  ..., -0.0396,  1.1343, -0.9303],\n",
              "                                                        [ 0.0253, -0.3455,  0.6348,  ..., -0.1176,  1.2277, -0.8840],\n",
              "                                                        [ 0.0738, -0.2691,  0.1166,  ..., -0.1826,  1.0600, -0.8289]]])),\n",
              "                                              ('pooler_output',\n",
              "                                               tensor([[-0.6783,  0.7967, -0.9236,  ...,  0.9727, -0.7719, -0.7431],\n",
              "                                                       [-0.1891,  0.5831, -0.3533,  ...,  0.5477, -0.6666, -0.5658],\n",
              "                                                       [-0.4307,  0.6779, -0.7461,  ...,  0.8114, -0.7360, -0.7495],\n",
              "                                                       ...,\n",
              "                                                       [ 0.2716, -0.0750,  0.2479,  ..., -0.2279,  0.0047,  0.0612],\n",
              "                                                       [ 0.1854, -0.1345,  0.3104,  ..., -0.4668,  0.1402,  0.1825],\n",
              "                                                       [ 0.0449,  0.1825, -0.1285,  ...,  0.4506, -0.1757, -0.0496]]))])"
            ]
          },
          "metadata": {
            "tags": []
          },
          "execution_count": 45
        }
      ]
    },
    {
      "cell_type": "code",
      "metadata": {
        "colab": {
          "base_uri": "https://localhost:8080/"
        },
        "id": "0y2RKwu2hppz",
        "outputId": "deee09dc-4195-4149-9e0b-b5d21adf92e4"
      },
      "source": [
        "features = last_hidden_states[0][:,0,:].numpy()  \r\n",
        "len(features[0])"
      ],
      "execution_count": 46,
      "outputs": [
        {
          "output_type": "execute_result",
          "data": {
            "text/plain": [
              "768"
            ]
          },
          "metadata": {
            "tags": []
          },
          "execution_count": 46
        }
      ]
    },
    {
      "cell_type": "code",
      "metadata": {
        "id": "WIgG_3JOhpp0"
      },
      "source": [
        "labels = df[1]"
      ],
      "execution_count": 47,
      "outputs": []
    },
    {
      "cell_type": "markdown",
      "metadata": {
        "id": "AxXYRc4eice9"
      },
      "source": [
        "# Model #2: Train"
      ]
    },
    {
      "cell_type": "code",
      "metadata": {
        "id": "zVZvfjk0hpp0"
      },
      "source": [
        "train_features, test_features, train_labels, test_labels = train_test_split(features, labels)"
      ],
      "execution_count": 48,
      "outputs": []
    },
    {
      "cell_type": "code",
      "metadata": {
        "id": "LxuYPbj2hpp0",
        "colab": {
          "base_uri": "https://localhost:8080/"
        },
        "outputId": "7e32c240-f2d8-46e9-eac6-5cca283db646"
      },
      "source": [
        "lr_clf = LogisticRegression()\r\n",
        "lr_clf.fit(train_features, train_labels)"
      ],
      "execution_count": 49,
      "outputs": [
        {
          "output_type": "execute_result",
          "data": {
            "text/plain": [
              "LogisticRegression(C=1.0, class_weight=None, dual=False, fit_intercept=True,\n",
              "                   intercept_scaling=1, l1_ratio=None, max_iter=100,\n",
              "                   multi_class='auto', n_jobs=None, penalty='l2',\n",
              "                   random_state=None, solver='lbfgs', tol=0.0001, verbose=0,\n",
              "                   warm_start=False)"
            ]
          },
          "metadata": {
            "tags": []
          },
          "execution_count": 49
        }
      ]
    },
    {
      "cell_type": "code",
      "metadata": {
        "id": "e9-f_KQZhpp0",
        "colab": {
          "base_uri": "https://localhost:8080/"
        },
        "outputId": "7cc65faf-29ce-49be-ec71-6ecabbf9e75d"
      },
      "source": [
        "lr_clf.score(test_features, test_labels)"
      ],
      "execution_count": 50,
      "outputs": [
        {
          "output_type": "execute_result",
          "data": {
            "text/plain": [
              "0.948"
            ]
          },
          "metadata": {
            "tags": []
          },
          "execution_count": 50
        }
      ]
    },
    {
      "cell_type": "code",
      "metadata": {
        "id": "AJwLoddOhpp1",
        "colab": {
          "base_uri": "https://localhost:8080/"
        },
        "outputId": "5930e7dc-088f-4eb3-f54a-001a2f6f8ce4"
      },
      "source": [
        "pred = lr_clf.predict(test_features)\r\n",
        "print('Accuracy of logistic regression classifier on test set: {:.2f}'.format(lr_clf.score(test_features, test_labels)))"
      ],
      "execution_count": 51,
      "outputs": [
        {
          "output_type": "stream",
          "text": [
            "Accuracy of logistic regression classifier on test set: 0.95\n"
          ],
          "name": "stdout"
        }
      ]
    },
    {
      "cell_type": "code",
      "metadata": {
        "id": "6PKoaxM4hpp1",
        "colab": {
          "base_uri": "https://localhost:8080/"
        },
        "outputId": "b8abf8d0-2831-4012-962c-c1f9a105a474"
      },
      "source": [
        "from sklearn.metrics import confusion_matrix\r\n",
        "confusion_matrix = confusion_matrix(test_labels, pred)\r\n",
        "print(confusion_matrix)"
      ],
      "execution_count": 52,
      "outputs": [
        {
          "output_type": "stream",
          "text": [
            "[[256  15]\n",
            " [ 11 218]]\n"
          ],
          "name": "stdout"
        }
      ]
    },
    {
      "cell_type": "code",
      "metadata": {
        "id": "qvJ6Dxwzhpp1",
        "colab": {
          "base_uri": "https://localhost:8080/",
          "height": 282
        },
        "outputId": "4b0c0ad4-83b7-431b-9ddb-3200e1deafe8"
      },
      "source": [
        "df = pd.DataFrame(confusion_matrix, index = [\"Positive\", \"Negative\"], columns = [\"Positive\", \"Negative\"])\r\n",
        "sns.heatmap(df)"
      ],
      "execution_count": 53,
      "outputs": [
        {
          "output_type": "execute_result",
          "data": {
            "text/plain": [
              "<matplotlib.axes._subplots.AxesSubplot at 0x7fb713a67390>"
            ]
          },
          "metadata": {
            "tags": []
          },
          "execution_count": 53
        },
        {
          "output_type": "display_data",
          "data": {
            "image/png": "[encoded data removed]",
            "text/plain": [
              "<Figure size 432x288 with 2 Axes>"
            ]
          },
          "metadata": {
            "tags": [],
            "needs_background": "light"
          }
        }
      ]
    },
    {
      "cell_type": "markdown",
      "metadata": {
        "id": "ye6eqDSOBmjA"
      },
      "source": [
        "# Pipeline"
      ]
    },
    {
      "cell_type": "code",
      "metadata": {
        "id": "J1HyAJEfhpp2"
      },
      "source": [
        "# @torch.no_grad()\r\n",
        "def predict(text):\r\n",
        "    text = preprocess1(text)\r\n",
        "    tokenized = tokenizer.encode(text, add_special_tokens=True)\r\n",
        "    input = torch.tensor([tokenized]).to(torch.int64)\r\n",
        "\r\n",
        "    \r\n",
        "    last_hidden_states = model(input)\r\n",
        "\r\n",
        "    features = last_hidden_states[0][:,0,:].numpy()\r\n",
        "\r\n",
        "    pred = lr_clf.predict(features)\r\n",
        "    if pred[0] == 1:\r\n",
        "        print(\"Positive\")\r\n",
        "    else:\r\n",
        "        print(\"Negative\")"
      ],
      "execution_count": 121,
      "outputs": []
    },
    {
      "cell_type": "code",
      "metadata": {
        "colab": {
          "base_uri": "https://localhost:8080/"
        },
        "id": "slFvT4R8CDFq",
        "outputId": "1738435c-87bb-4ad8-8ad3-fb60c63ad7cf"
      },
      "source": [
        "predict(\"У меня получилось обучить модель!\")"
      ],
      "execution_count": 122,
      "outputs": [
        {
          "output_type": "stream",
          "text": [
            "Positive\n"
          ],
          "name": "stdout"
        }
      ]
    },
    {
      "cell_type": "code",
      "metadata": {
        "id": "hQUbA3F-hpp2",
        "colab": {
          "base_uri": "https://localhost:8080/"
        },
        "outputId": "72dc08a8-6c37-4d7d-cb5f-eb083f322fd6"
      },
      "source": [
        "predict(\"Она работает быстро\")"
      ],
      "execution_count": 123,
      "outputs": [
        {
          "output_type": "stream",
          "text": [
            "Positive\n"
          ],
          "name": "stdout"
        }
      ]
    },
    {
      "cell_type": "code",
      "metadata": {
        "colab": {
          "base_uri": "https://localhost:8080/"
        },
        "id": "TLFlkmgwRx2d",
        "outputId": "3e0fa586-0230-4e0d-f6ee-088086931cd5"
      },
      "source": [
        "predict(\"Жалко, что я сразу не нашел ошибку\")"
      ],
      "execution_count": 124,
      "outputs": [
        {
          "output_type": "stream",
          "text": [
            "Negative\n"
          ],
          "name": "stdout"
        }
      ]
    },
    {
      "cell_type": "code",
      "metadata": {
        "colab": {
          "base_uri": "https://localhost:8080/"
        },
        "id": "S1ussh-uSTWA",
        "outputId": "a097c4dc-9256-4442-e923-2828f286d0ed"
      },
      "source": [
        "predict(\"Я люблю трансформеры\")"
      ],
      "execution_count": 125,
      "outputs": [
        {
          "output_type": "stream",
          "text": [
            "Positive\n"
          ],
          "name": "stdout"
        }
      ]
    },
    {
      "cell_type": "code",
      "metadata": {
        "id": "o4q1qBdeRKAi"
      },
      "source": [
        ""
      ],
      "execution_count": 125,
      "outputs": []
    }
  ]
}
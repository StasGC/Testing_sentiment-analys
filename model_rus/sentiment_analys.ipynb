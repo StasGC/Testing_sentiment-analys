{
  "nbformat": 4,
  "nbformat_minor": 0,
  "metadata": {
    "kernelspec": {
      "display_name": "Python 3",
      "language": "python",
      "name": "python3"
    },
    "language_info": {
      "codemirror_mode": {
        "name": "ipython",
        "version": 3
      },
      "file_extension": ".py",
      "mimetype": "text/x-python",
      "name": "python",
      "nbconvert_exporter": "python",
      "pygments_lexer": "ipython3",
      "version": "3.8.5"
    },
    "colab": {
      "name": "sentiment-analys.ipynb",
      "provenance": [],
      "collapsed_sections": [
        "RCmOFtvYhppv"
      ],
      "toc_visible": true
    }
  },
  "cells": [
    {
      "cell_type": "code",
      "metadata": {
        "colab": {
          "base_uri": "https://localhost:8080/"
        },
        "id": "ZDHv3Kgahppi",
        "outputId": "b88217f6-5044-4bb0-d81f-d6077e34f1c4"
      },
      "source": [
        "!pip install transformers"
      ],
      "execution_count": 126,
      "outputs": [
        {
          "output_type": "stream",
          "text": [
            "Requirement already satisfied: transformers in /usr/local/lib/python3.6/dist-packages (4.3.2)\n",
            "Requirement already satisfied: filelock in /usr/local/lib/python3.6/dist-packages (from transformers) (3.0.12)\n",
            "Requirement already satisfied: dataclasses; python_version < \"3.7\" in /usr/local/lib/python3.6/dist-packages (from transformers) (0.8)\n",
            "Requirement already satisfied: tokenizers<0.11,>=0.10.1 in /usr/local/lib/python3.6/dist-packages (from transformers) (0.10.1)\n",
            "Requirement already satisfied: requests in /usr/local/lib/python3.6/dist-packages (from transformers) (2.23.0)\n",
            "Requirement already satisfied: regex!=2019.12.17 in /usr/local/lib/python3.6/dist-packages (from transformers) (2019.12.20)\n",
            "Requirement already satisfied: importlib-metadata; python_version < \"3.8\" in /usr/local/lib/python3.6/dist-packages (from transformers) (3.4.0)\n",
            "Requirement already satisfied: tqdm>=4.27 in /usr/local/lib/python3.6/dist-packages (from transformers) (4.41.1)\n",
            "Requirement already satisfied: packaging in /usr/local/lib/python3.6/dist-packages (from transformers) (20.9)\n",
            "Requirement already satisfied: numpy>=1.17 in /usr/local/lib/python3.6/dist-packages (from transformers) (1.19.5)\n",
            "Requirement already satisfied: sacremoses in /usr/local/lib/python3.6/dist-packages (from transformers) (0.0.43)\n",
            "Requirement already satisfied: chardet<4,>=3.0.2 in /usr/local/lib/python3.6/dist-packages (from requests->transformers) (3.0.4)\n",
            "Requirement already satisfied: certifi>=2017.4.17 in /usr/local/lib/python3.6/dist-packages (from requests->transformers) (2020.12.5)\n",
            "Requirement already satisfied: idna<3,>=2.5 in /usr/local/lib/python3.6/dist-packages (from requests->transformers) (2.10)\n",
            "Requirement already satisfied: urllib3!=1.25.0,!=1.25.1,<1.26,>=1.21.1 in /usr/local/lib/python3.6/dist-packages (from requests->transformers) (1.24.3)\n",
            "Requirement already satisfied: zipp>=0.5 in /usr/local/lib/python3.6/dist-packages (from importlib-metadata; python_version < \"3.8\"->transformers) (3.4.0)\n",
            "Requirement already satisfied: typing-extensions>=3.6.4; python_version < \"3.8\" in /usr/local/lib/python3.6/dist-packages (from importlib-metadata; python_version < \"3.8\"->transformers) (3.7.4.3)\n",
            "Requirement already satisfied: pyparsing>=2.0.2 in /usr/local/lib/python3.6/dist-packages (from packaging->transformers) (2.4.7)\n",
            "Requirement already satisfied: joblib in /usr/local/lib/python3.6/dist-packages (from sacremoses->transformers) (1.0.0)\n",
            "Requirement already satisfied: six in /usr/local/lib/python3.6/dist-packages (from sacremoses->transformers) (1.15.0)\n",
            "Requirement already satisfied: click in /usr/local/lib/python3.6/dist-packages (from sacremoses->transformers) (7.1.2)\n"
          ],
          "name": "stdout"
        }
      ]
    },
    {
      "cell_type": "code",
      "metadata": {
        "colab": {
          "base_uri": "https://localhost:8080/"
        },
        "id": "MYREQAKmhppl",
        "outputId": "a546d73b-3c19-4a12-e274-4f50cc8b1d50"
      },
      "source": [
        "!pip install torch===1.7.1 torchvision===0.8.2 torchaudio===0.7.2 -f https://download.pytorch.org/whl/torch_stable.html"
      ],
      "execution_count": 127,
      "outputs": [
        {
          "output_type": "stream",
          "text": [
            "Looking in links: https://download.pytorch.org/whl/torch_stable.html\n",
            "Requirement already satisfied: torch===1.7.1 in /usr/local/lib/python3.6/dist-packages (1.7.1)\n",
            "Requirement already satisfied: torchvision===0.8.2 in /usr/local/lib/python3.6/dist-packages (0.8.2)\n",
            "Requirement already satisfied: torchaudio===0.7.2 in /usr/local/lib/python3.6/dist-packages (0.7.2)\n",
            "Requirement already satisfied: dataclasses; python_version < \"3.7\" in /usr/local/lib/python3.6/dist-packages (from torch===1.7.1) (0.8)\n",
            "Requirement already satisfied: typing-extensions in /usr/local/lib/python3.6/dist-packages (from torch===1.7.1) (3.7.4.3)\n",
            "Requirement already satisfied: numpy in /usr/local/lib/python3.6/dist-packages (from torch===1.7.1) (1.19.5)\n",
            "Requirement already satisfied: pillow>=4.1.1 in /usr/local/lib/python3.6/dist-packages (from torchvision===0.8.2) (7.0.0)\n"
          ],
          "name": "stdout"
        }
      ]
    },
    {
      "cell_type": "code",
      "metadata": {
        "id": "LYsQ24CPhppn"
      },
      "source": [
        "import numpy as np\n",
        "import pandas as pd\n",
        "import re\n",
        "from sklearn.model_selection import train_test_split\n",
        "from sklearn.linear_model import LogisticRegression\n",
        "from sklearn.model_selection import GridSearchCV\n",
        "from sklearn.model_selection import cross_val_score\n",
        "import torch\n",
        "import transformers\n",
        "import matplotlib.pyplot as plt\n",
        "import seaborn as sns\n",
        "import warnings\n",
        "warnings.filterwarnings('ignore')"
      ],
      "execution_count": 128,
      "outputs": []
    },
    {
      "cell_type": "markdown",
      "metadata": {
        "id": "MdZHW8bUhppn"
      },
      "source": [
        "# Importing and preprocessing datasets"
      ]
    },
    {
      "cell_type": "code",
      "metadata": {
        "id": "zvpdG5Pdhppo"
      },
      "source": [
        "pos_df = pd.read_csv('positive.csv', delimiter=';', header=None)\n",
        "neg_df = pd.read_csv('negative.csv', delimiter=';', header=None)"
      ],
      "execution_count": 129,
      "outputs": []
    },
    {
      "cell_type": "code",
      "metadata": {
        "colab": {
          "base_uri": "https://localhost:8080/",
          "height": 343
        },
        "id": "YhIXOTaDhppp",
        "outputId": "c507851a-ed14-4b20-def7-6431746c587b"
      },
      "source": [
        "pos_df.head(10)"
      ],
      "execution_count": 130,
      "outputs": [
        {
          "output_type": "execute_result",
          "data": {
            "text/html": [
              "<div>\n",
              "<style scoped>\n",
              "    .dataframe tbody tr th:only-of-type {\n",
              "        vertical-align: middle;\n",
              "    }\n",
              "\n",
              "    .dataframe tbody tr th {\n",
              "        vertical-align: top;\n",
              "    }\n",
              "\n",
              "    .dataframe thead th {\n",
              "        text-align: right;\n",
              "    }\n",
              "</style>\n",
              "<table border=\"1\" class=\"dataframe\">\n",
              "  <thead>\n",
              "    <tr style=\"text-align: right;\">\n",
              "      <th></th>\n",
              "      <th>0</th>\n",
              "      <th>1</th>\n",
              "      <th>2</th>\n",
              "      <th>3</th>\n",
              "      <th>4</th>\n",
              "      <th>5</th>\n",
              "      <th>6</th>\n",
              "      <th>7</th>\n",
              "      <th>8</th>\n",
              "      <th>9</th>\n",
              "      <th>10</th>\n",
              "      <th>11</th>\n",
              "    </tr>\n",
              "  </thead>\n",
              "  <tbody>\n",
              "    <tr>\n",
              "      <th>0</th>\n",
              "      <td>408906692374446080</td>\n",
              "      <td>1386325927</td>\n",
              "      <td>pleease_shut_up</td>\n",
              "      <td>@first_timee хоть я и школота, но поверь, у на...</td>\n",
              "      <td>1</td>\n",
              "      <td>0</td>\n",
              "      <td>0</td>\n",
              "      <td>0</td>\n",
              "      <td>7569</td>\n",
              "      <td>62</td>\n",
              "      <td>61</td>\n",
              "      <td>0</td>\n",
              "    </tr>\n",
              "    <tr>\n",
              "      <th>1</th>\n",
              "      <td>408906692693221377</td>\n",
              "      <td>1386325927</td>\n",
              "      <td>alinakirpicheva</td>\n",
              "      <td>Да, все-таки он немного похож на него. Но мой ...</td>\n",
              "      <td>1</td>\n",
              "      <td>0</td>\n",
              "      <td>0</td>\n",
              "      <td>0</td>\n",
              "      <td>11825</td>\n",
              "      <td>59</td>\n",
              "      <td>31</td>\n",
              "      <td>2</td>\n",
              "    </tr>\n",
              "    <tr>\n",
              "      <th>2</th>\n",
              "      <td>408906695083954177</td>\n",
              "      <td>1386325927</td>\n",
              "      <td>EvgeshaRe</td>\n",
              "      <td>RT @KatiaCheh: Ну ты идиотка) я испугалась за ...</td>\n",
              "      <td>1</td>\n",
              "      <td>0</td>\n",
              "      <td>1</td>\n",
              "      <td>0</td>\n",
              "      <td>1273</td>\n",
              "      <td>26</td>\n",
              "      <td>27</td>\n",
              "      <td>0</td>\n",
              "    </tr>\n",
              "    <tr>\n",
              "      <th>3</th>\n",
              "      <td>408906695356973056</td>\n",
              "      <td>1386325927</td>\n",
              "      <td>ikonnikova_21</td>\n",
              "      <td>RT @digger2912: \"Кто то в углу сидит и погибае...</td>\n",
              "      <td>1</td>\n",
              "      <td>0</td>\n",
              "      <td>1</td>\n",
              "      <td>0</td>\n",
              "      <td>1549</td>\n",
              "      <td>19</td>\n",
              "      <td>17</td>\n",
              "      <td>0</td>\n",
              "    </tr>\n",
              "    <tr>\n",
              "      <th>4</th>\n",
              "      <td>408906761416867842</td>\n",
              "      <td>1386325943</td>\n",
              "      <td>JumpyAlex</td>\n",
              "      <td>@irina_dyshkant Вот что значит страшилка :D\\nН...</td>\n",
              "      <td>1</td>\n",
              "      <td>0</td>\n",
              "      <td>0</td>\n",
              "      <td>0</td>\n",
              "      <td>597</td>\n",
              "      <td>16</td>\n",
              "      <td>23</td>\n",
              "      <td>1</td>\n",
              "    </tr>\n",
              "    <tr>\n",
              "      <th>5</th>\n",
              "      <td>408906761769598976</td>\n",
              "      <td>1386325943</td>\n",
              "      <td>JustinB94262583</td>\n",
              "      <td>ну любишь или нет? — Я не знаю кто ты бля:D ht...</td>\n",
              "      <td>1</td>\n",
              "      <td>0</td>\n",
              "      <td>0</td>\n",
              "      <td>0</td>\n",
              "      <td>40</td>\n",
              "      <td>6</td>\n",
              "      <td>16</td>\n",
              "      <td>0</td>\n",
              "    </tr>\n",
              "    <tr>\n",
              "      <th>6</th>\n",
              "      <td>408906762436481024</td>\n",
              "      <td>1386325943</td>\n",
              "      <td>twinkleAYO</td>\n",
              "      <td>RT @SpoonLamer: Ох,900 :D ну это конечно же @t...</td>\n",
              "      <td>1</td>\n",
              "      <td>0</td>\n",
              "      <td>1</td>\n",
              "      <td>0</td>\n",
              "      <td>5169</td>\n",
              "      <td>58</td>\n",
              "      <td>43</td>\n",
              "      <td>2</td>\n",
              "    </tr>\n",
              "    <tr>\n",
              "      <th>7</th>\n",
              "      <td>408906764114206720</td>\n",
              "      <td>1386325944</td>\n",
              "      <td>pycalyruhog</td>\n",
              "      <td>RT @veregijytaqo: У тебя есть ухажёр? Нет - мо...</td>\n",
              "      <td>1</td>\n",
              "      <td>0</td>\n",
              "      <td>2</td>\n",
              "      <td>0</td>\n",
              "      <td>393</td>\n",
              "      <td>112</td>\n",
              "      <td>153</td>\n",
              "      <td>0</td>\n",
              "    </tr>\n",
              "    <tr>\n",
              "      <th>8</th>\n",
              "      <td>408906764608749568</td>\n",
              "      <td>1386325944</td>\n",
              "      <td>grishintv</td>\n",
              "      <td>Поприветствуем моего нового читателя @Alexey17...</td>\n",
              "      <td>1</td>\n",
              "      <td>0</td>\n",
              "      <td>0</td>\n",
              "      <td>0</td>\n",
              "      <td>5872</td>\n",
              "      <td>1387</td>\n",
              "      <td>1431</td>\n",
              "      <td>12</td>\n",
              "    </tr>\n",
              "    <tr>\n",
              "      <th>9</th>\n",
              "      <td>408906765841870848</td>\n",
              "      <td>1386325944</td>\n",
              "      <td>alina_612</td>\n",
              "      <td>Теперь у меня есть частичка Сиднея :) #Sydney ...</td>\n",
              "      <td>1</td>\n",
              "      <td>0</td>\n",
              "      <td>0</td>\n",
              "      <td>0</td>\n",
              "      <td>263</td>\n",
              "      <td>5</td>\n",
              "      <td>36</td>\n",
              "      <td>0</td>\n",
              "    </tr>\n",
              "  </tbody>\n",
              "</table>\n",
              "</div>"
            ],
            "text/plain": [
              "                   0           1                2   ...    9     10  11\n",
              "0  408906692374446080  1386325927  pleease_shut_up  ...    62    61   0\n",
              "1  408906692693221377  1386325927  alinakirpicheva  ...    59    31   2\n",
              "2  408906695083954177  1386325927        EvgeshaRe  ...    26    27   0\n",
              "3  408906695356973056  1386325927    ikonnikova_21  ...    19    17   0\n",
              "4  408906761416867842  1386325943        JumpyAlex  ...    16    23   1\n",
              "5  408906761769598976  1386325943  JustinB94262583  ...     6    16   0\n",
              "6  408906762436481024  1386325943       twinkleAYO  ...    58    43   2\n",
              "7  408906764114206720  1386325944      pycalyruhog  ...   112   153   0\n",
              "8  408906764608749568  1386325944        grishintv  ...  1387  1431  12\n",
              "9  408906765841870848  1386325944        alina_612  ...     5    36   0\n",
              "\n",
              "[10 rows x 12 columns]"
            ]
          },
          "metadata": {
            "tags": []
          },
          "execution_count": 130
        }
      ]
    },
    {
      "cell_type": "code",
      "metadata": {
        "colab": {
          "base_uri": "https://localhost:8080/",
          "height": 343
        },
        "id": "7PGhTNqUhppq",
        "outputId": "29e245d9-8381-4134-81cf-5fdd5207fece"
      },
      "source": [
        "df = pd.concat([pos_df, neg_df], ignore_index=True).sample(frac=1).reset_index(drop=True)\n",
        "df.head(10)"
      ],
      "execution_count": 131,
      "outputs": [
        {
          "output_type": "execute_result",
          "data": {
            "text/html": [
              "<div>\n",
              "<style scoped>\n",
              "    .dataframe tbody tr th:only-of-type {\n",
              "        vertical-align: middle;\n",
              "    }\n",
              "\n",
              "    .dataframe tbody tr th {\n",
              "        vertical-align: top;\n",
              "    }\n",
              "\n",
              "    .dataframe thead th {\n",
              "        text-align: right;\n",
              "    }\n",
              "</style>\n",
              "<table border=\"1\" class=\"dataframe\">\n",
              "  <thead>\n",
              "    <tr style=\"text-align: right;\">\n",
              "      <th></th>\n",
              "      <th>0</th>\n",
              "      <th>1</th>\n",
              "      <th>2</th>\n",
              "      <th>3</th>\n",
              "      <th>4</th>\n",
              "      <th>5</th>\n",
              "      <th>6</th>\n",
              "      <th>7</th>\n",
              "      <th>8</th>\n",
              "      <th>9</th>\n",
              "      <th>10</th>\n",
              "      <th>11</th>\n",
              "    </tr>\n",
              "  </thead>\n",
              "  <tbody>\n",
              "    <tr>\n",
              "      <th>0</th>\n",
              "      <td>411200208673198080</td>\n",
              "      <td>1386872744</td>\n",
              "      <td>Lidamagomedovna</td>\n",
              "      <td>RT @SPB_citizen: В Сирии сейчас больше снега ,...</td>\n",
              "      <td>1</td>\n",
              "      <td>0</td>\n",
              "      <td>1</td>\n",
              "      <td>0</td>\n",
              "      <td>17645</td>\n",
              "      <td>403</td>\n",
              "      <td>324</td>\n",
              "      <td>12</td>\n",
              "    </tr>\n",
              "    <tr>\n",
              "      <th>1</th>\n",
              "      <td>410144087635816448</td>\n",
              "      <td>1386620945</td>\n",
              "      <td>DDikij1</td>\n",
              "      <td>@svobodailismert Хе-хе-хехе! А потом они будут...</td>\n",
              "      <td>1</td>\n",
              "      <td>0</td>\n",
              "      <td>0</td>\n",
              "      <td>0</td>\n",
              "      <td>6705</td>\n",
              "      <td>430</td>\n",
              "      <td>466</td>\n",
              "      <td>10</td>\n",
              "    </tr>\n",
              "    <tr>\n",
              "      <th>2</th>\n",
              "      <td>413666873717170177</td>\n",
              "      <td>1387460842</td>\n",
              "      <td>Yatrava</td>\n",
              "      <td>@almadiel1985 ну это же не по прааавилааам(((</td>\n",
              "      <td>-1</td>\n",
              "      <td>0</td>\n",
              "      <td>0</td>\n",
              "      <td>0</td>\n",
              "      <td>20403</td>\n",
              "      <td>106</td>\n",
              "      <td>163</td>\n",
              "      <td>2</td>\n",
              "    </tr>\n",
              "    <tr>\n",
              "      <th>3</th>\n",
              "      <td>409370939600953344</td>\n",
              "      <td>1386436612</td>\n",
              "      <td>StepashkaMimi</td>\n",
              "      <td>Мы седели в троем @Alex_Krylova, @Nastya_Kicha...</td>\n",
              "      <td>1</td>\n",
              "      <td>0</td>\n",
              "      <td>0</td>\n",
              "      <td>0</td>\n",
              "      <td>216</td>\n",
              "      <td>34</td>\n",
              "      <td>38</td>\n",
              "      <td>0</td>\n",
              "    </tr>\n",
              "    <tr>\n",
              "      <th>4</th>\n",
              "      <td>419513785993265152</td>\n",
              "      <td>1388854855</td>\n",
              "      <td>Kate_choc_art</td>\n",
              "      <td>я могла всегда поднять настроение сама себе, н...</td>\n",
              "      <td>-1</td>\n",
              "      <td>0</td>\n",
              "      <td>0</td>\n",
              "      <td>0</td>\n",
              "      <td>5242</td>\n",
              "      <td>62</td>\n",
              "      <td>51</td>\n",
              "      <td>0</td>\n",
              "    </tr>\n",
              "    <tr>\n",
              "      <th>5</th>\n",
              "      <td>409098287950860289</td>\n",
              "      <td>1386371607</td>\n",
              "      <td>iwokehor</td>\n",
              "      <td>Сидим возле стеллы. Хорошо :) Только берег под...</td>\n",
              "      <td>1</td>\n",
              "      <td>0</td>\n",
              "      <td>0</td>\n",
              "      <td>0</td>\n",
              "      <td>48</td>\n",
              "      <td>48</td>\n",
              "      <td>46</td>\n",
              "      <td>0</td>\n",
              "    </tr>\n",
              "    <tr>\n",
              "      <th>6</th>\n",
              "      <td>424166946637348864</td>\n",
              "      <td>1389964255</td>\n",
              "      <td>lizmatkowskayay</td>\n",
              "      <td>вот все тебе не нравится!!! не хочешь идти,не ...</td>\n",
              "      <td>-1</td>\n",
              "      <td>0</td>\n",
              "      <td>0</td>\n",
              "      <td>0</td>\n",
              "      <td>145</td>\n",
              "      <td>13</td>\n",
              "      <td>18</td>\n",
              "      <td>0</td>\n",
              "    </tr>\n",
              "    <tr>\n",
              "      <th>7</th>\n",
              "      <td>410850206352035841</td>\n",
              "      <td>1386789297</td>\n",
              "      <td>Orioncannon93</td>\n",
              "      <td>Никакого Конеца Света в 2012 не будет! Лучше д...</td>\n",
              "      <td>1</td>\n",
              "      <td>0</td>\n",
              "      <td>0</td>\n",
              "      <td>0</td>\n",
              "      <td>27</td>\n",
              "      <td>0</td>\n",
              "      <td>3</td>\n",
              "      <td>0</td>\n",
              "    </tr>\n",
              "    <tr>\n",
              "      <th>8</th>\n",
              "      <td>411113700972838913</td>\n",
              "      <td>1386852119</td>\n",
              "      <td>DianaLluvia</td>\n",
              "      <td>Как всегда я делаю че то не так, зря я отказал...</td>\n",
              "      <td>-1</td>\n",
              "      <td>0</td>\n",
              "      <td>0</td>\n",
              "      <td>0</td>\n",
              "      <td>6883</td>\n",
              "      <td>143</td>\n",
              "      <td>364</td>\n",
              "      <td>0</td>\n",
              "    </tr>\n",
              "    <tr>\n",
              "      <th>9</th>\n",
              "      <td>423855083189972992</td>\n",
              "      <td>1389889901</td>\n",
              "      <td>KisslizLove</td>\n",
              "      <td>Наступать на одни и те же граблии...Да,это я у...</td>\n",
              "      <td>-1</td>\n",
              "      <td>0</td>\n",
              "      <td>0</td>\n",
              "      <td>0</td>\n",
              "      <td>4</td>\n",
              "      <td>0</td>\n",
              "      <td>1</td>\n",
              "      <td>0</td>\n",
              "    </tr>\n",
              "  </tbody>\n",
              "</table>\n",
              "</div>"
            ],
            "text/plain": [
              "                   0           1                2   ...   9    10  11\n",
              "0  411200208673198080  1386872744  Lidamagomedovna  ...  403  324  12\n",
              "1  410144087635816448  1386620945          DDikij1  ...  430  466  10\n",
              "2  413666873717170177  1387460842          Yatrava  ...  106  163   2\n",
              "3  409370939600953344  1386436612    StepashkaMimi  ...   34   38   0\n",
              "4  419513785993265152  1388854855    Kate_choc_art  ...   62   51   0\n",
              "5  409098287950860289  1386371607         iwokehor  ...   48   46   0\n",
              "6  424166946637348864  1389964255  lizmatkowskayay  ...   13   18   0\n",
              "7  410850206352035841  1386789297    Orioncannon93  ...    0    3   0\n",
              "8  411113700972838913  1386852119      DianaLluvia  ...  143  364   0\n",
              "9  423855083189972992  1389889901      KisslizLove  ...    0    1   0\n",
              "\n",
              "[10 rows x 12 columns]"
            ]
          },
          "metadata": {
            "tags": []
          },
          "execution_count": 131
        }
      ]
    },
    {
      "cell_type": "code",
      "metadata": {
        "colab": {
          "base_uri": "https://localhost:8080/",
          "height": 343
        },
        "id": "tHLW2VUyhppr",
        "outputId": "d24c4601-0979-4096-d0f1-0410ccfb1187"
      },
      "source": [
        "df = df[df.columns[3:5]]\n",
        "df.columns = [0,1]\n",
        "df.head(10)"
      ],
      "execution_count": 132,
      "outputs": [
        {
          "output_type": "execute_result",
          "data": {
            "text/html": [
              "<div>\n",
              "<style scoped>\n",
              "    .dataframe tbody tr th:only-of-type {\n",
              "        vertical-align: middle;\n",
              "    }\n",
              "\n",
              "    .dataframe tbody tr th {\n",
              "        vertical-align: top;\n",
              "    }\n",
              "\n",
              "    .dataframe thead th {\n",
              "        text-align: right;\n",
              "    }\n",
              "</style>\n",
              "<table border=\"1\" class=\"dataframe\">\n",
              "  <thead>\n",
              "    <tr style=\"text-align: right;\">\n",
              "      <th></th>\n",
              "      <th>0</th>\n",
              "      <th>1</th>\n",
              "    </tr>\n",
              "  </thead>\n",
              "  <tbody>\n",
              "    <tr>\n",
              "      <th>0</th>\n",
              "      <td>RT @SPB_citizen: В Сирии сейчас больше снега ,...</td>\n",
              "      <td>1</td>\n",
              "    </tr>\n",
              "    <tr>\n",
              "      <th>1</th>\n",
              "      <td>@svobodailismert Хе-хе-хехе! А потом они будут...</td>\n",
              "      <td>1</td>\n",
              "    </tr>\n",
              "    <tr>\n",
              "      <th>2</th>\n",
              "      <td>@almadiel1985 ну это же не по прааавилааам(((</td>\n",
              "      <td>-1</td>\n",
              "    </tr>\n",
              "    <tr>\n",
              "      <th>3</th>\n",
              "      <td>Мы седели в троем @Alex_Krylova, @Nastya_Kicha...</td>\n",
              "      <td>1</td>\n",
              "    </tr>\n",
              "    <tr>\n",
              "      <th>4</th>\n",
              "      <td>я могла всегда поднять настроение сама себе, н...</td>\n",
              "      <td>-1</td>\n",
              "    </tr>\n",
              "    <tr>\n",
              "      <th>5</th>\n",
              "      <td>Сидим возле стеллы. Хорошо :) Только берег под...</td>\n",
              "      <td>1</td>\n",
              "    </tr>\n",
              "    <tr>\n",
              "      <th>6</th>\n",
              "      <td>вот все тебе не нравится!!! не хочешь идти,не ...</td>\n",
              "      <td>-1</td>\n",
              "    </tr>\n",
              "    <tr>\n",
              "      <th>7</th>\n",
              "      <td>Никакого Конеца Света в 2012 не будет! Лучше д...</td>\n",
              "      <td>1</td>\n",
              "    </tr>\n",
              "    <tr>\n",
              "      <th>8</th>\n",
              "      <td>Как всегда я делаю че то не так, зря я отказал...</td>\n",
              "      <td>-1</td>\n",
              "    </tr>\n",
              "    <tr>\n",
              "      <th>9</th>\n",
              "      <td>Наступать на одни и те же граблии...Да,это я у...</td>\n",
              "      <td>-1</td>\n",
              "    </tr>\n",
              "  </tbody>\n",
              "</table>\n",
              "</div>"
            ],
            "text/plain": [
              "                                                   0  1\n",
              "0  RT @SPB_citizen: В Сирии сейчас больше снега ,...  1\n",
              "1  @svobodailismert Хе-хе-хехе! А потом они будут...  1\n",
              "2      @almadiel1985 ну это же не по прааавилааам((( -1\n",
              "3  Мы седели в троем @Alex_Krylova, @Nastya_Kicha...  1\n",
              "4  я могла всегда поднять настроение сама себе, н... -1\n",
              "5  Сидим возле стеллы. Хорошо :) Только берег под...  1\n",
              "6  вот все тебе не нравится!!! не хочешь идти,не ... -1\n",
              "7  Никакого Конеца Света в 2012 не будет! Лучше д...  1\n",
              "8  Как всегда я делаю че то не так, зря я отказал... -1\n",
              "9  Наступать на одни и те же граблии...Да,это я у... -1"
            ]
          },
          "metadata": {
            "tags": []
          },
          "execution_count": 132
        }
      ]
    },
    {
      "cell_type": "code",
      "metadata": {
        "colab": {
          "base_uri": "https://localhost:8080/"
        },
        "id": "c8VN7Se9hpps",
        "outputId": "0dc3d4cd-0655-4870-85e6-4f1ce8b06f9d"
      },
      "source": [
        "df.shape"
      ],
      "execution_count": 133,
      "outputs": [
        {
          "output_type": "execute_result",
          "data": {
            "text/plain": [
              "(226834, 2)"
            ]
          },
          "metadata": {
            "tags": []
          },
          "execution_count": 133
        }
      ]
    },
    {
      "cell_type": "code",
      "metadata": {
        "id": "Z4uJELaDhppt"
      },
      "source": [
        "import re\n",
        "\n",
        "def preprocess1(text):\n",
        "        \"\"\"Minimal text preprocessing\n",
        "        \"\"\"\n",
        "        text = re.sub(\"^\\s+|([A-Za-z])+|(@[A-Za-z0-9\\_\\-]+)|\\n|\\r|\\s+$\", ' ', text)\n",
        "        return text.strip()\n",
        "\n",
        "\n",
        "def preprocess2(num):\n",
        "    if num == -1:\n",
        "        return 0\n",
        "    else:\n",
        "        return num"
      ],
      "execution_count": 134,
      "outputs": []
    },
    {
      "cell_type": "code",
      "metadata": {
        "id": "nVV8IDsvhppu"
      },
      "source": [
        "df[0] = df.apply(lambda x: preprocess1(x[0]), axis=1)\n",
        "df[1] = df.apply(lambda y: preprocess2(y[1]), axis=1)"
      ],
      "execution_count": 135,
      "outputs": []
    },
    {
      "cell_type": "code",
      "metadata": {
        "colab": {
          "base_uri": "https://localhost:8080/",
          "height": 343
        },
        "id": "23T5Sbphhppu",
        "outputId": "37a32920-2f03-403e-f214-3341b59a952d"
      },
      "source": [
        "df.head(10)"
      ],
      "execution_count": 136,
      "outputs": [
        {
          "output_type": "execute_result",
          "data": {
            "text/html": [
              "<div>\n",
              "<style scoped>\n",
              "    .dataframe tbody tr th:only-of-type {\n",
              "        vertical-align: middle;\n",
              "    }\n",
              "\n",
              "    .dataframe tbody tr th {\n",
              "        vertical-align: top;\n",
              "    }\n",
              "\n",
              "    .dataframe thead th {\n",
              "        text-align: right;\n",
              "    }\n",
              "</style>\n",
              "<table border=\"1\" class=\"dataframe\">\n",
              "  <thead>\n",
              "    <tr style=\"text-align: right;\">\n",
              "      <th></th>\n",
              "      <th>0</th>\n",
              "      <th>1</th>\n",
              "    </tr>\n",
              "  </thead>\n",
              "  <tbody>\n",
              "    <tr>\n",
              "      <th>0</th>\n",
              "      <td>: В Сирии сейчас больше снега , чем в Питере :))</td>\n",
              "      <td>1</td>\n",
              "    </tr>\n",
              "    <tr>\n",
              "      <th>1</th>\n",
              "      <td>Хе-хе-хехе! А потом они будут  блеять перед ка...</td>\n",
              "      <td>1</td>\n",
              "    </tr>\n",
              "    <tr>\n",
              "      <th>2</th>\n",
              "      <td>ну это же не по прааавилааам(((</td>\n",
              "      <td>0</td>\n",
              "    </tr>\n",
              "    <tr>\n",
              "      <th>3</th>\n",
              "      <td>Мы седели в троем  ,   и я:) а тут пришли еще ...</td>\n",
              "      <td>1</td>\n",
              "    </tr>\n",
              "    <tr>\n",
              "      <th>4</th>\n",
              "      <td>я могла всегда поднять настроение сама себе, н...</td>\n",
              "      <td>0</td>\n",
              "    </tr>\n",
              "    <tr>\n",
              "      <th>5</th>\n",
              "      <td>Сидим возле стеллы. Хорошо :) Только берег под...</td>\n",
              "      <td>1</td>\n",
              "    </tr>\n",
              "    <tr>\n",
              "      <th>6</th>\n",
              "      <td>вот все тебе не нравится!!! не хочешь идти,не ...</td>\n",
              "      <td>0</td>\n",
              "    </tr>\n",
              "    <tr>\n",
              "      <th>7</th>\n",
              "      <td>Никакого Конеца Света в 2012 не будет! Лучше д...</td>\n",
              "      <td>1</td>\n",
              "    </tr>\n",
              "    <tr>\n",
              "      <th>8</th>\n",
              "      <td>Как всегда я делаю че то не так, зря я отказал...</td>\n",
              "      <td>0</td>\n",
              "    </tr>\n",
              "    <tr>\n",
              "      <th>9</th>\n",
              "      <td>Наступать на одни и те же граблии...Да,это я у...</td>\n",
              "      <td>0</td>\n",
              "    </tr>\n",
              "  </tbody>\n",
              "</table>\n",
              "</div>"
            ],
            "text/plain": [
              "                                                   0  1\n",
              "0   : В Сирии сейчас больше снега , чем в Питере :))  1\n",
              "1  Хе-хе-хехе! А потом они будут  блеять перед ка...  1\n",
              "2                    ну это же не по прааавилааам(((  0\n",
              "3  Мы седели в троем  ,   и я:) а тут пришли еще ...  1\n",
              "4  я могла всегда поднять настроение сама себе, н...  0\n",
              "5  Сидим возле стеллы. Хорошо :) Только берег под...  1\n",
              "6  вот все тебе не нравится!!! не хочешь идти,не ...  0\n",
              "7  Никакого Конеца Света в 2012 не будет! Лучше д...  1\n",
              "8  Как всегда я делаю че то не так, зря я отказал...  0\n",
              "9  Наступать на одни и те же граблии...Да,это я у...  0"
            ]
          },
          "metadata": {
            "tags": []
          },
          "execution_count": 136
        }
      ]
    },
    {
      "cell_type": "code",
      "metadata": {
        "colab": {
          "base_uri": "https://localhost:8080/"
        },
        "id": "xZH8Envlhppu",
        "outputId": "8823b8de-0891-4743-8ddc-c4b4267b7fc4"
      },
      "source": [
        "df[1].value_counts()"
      ],
      "execution_count": 137,
      "outputs": [
        {
          "output_type": "execute_result",
          "data": {
            "text/plain": [
              "1    114911\n",
              "0    111923\n",
              "Name: 1, dtype: int64"
            ]
          },
          "metadata": {
            "tags": []
          },
          "execution_count": 137
        }
      ]
    },
    {
      "cell_type": "code",
      "metadata": {
        "colab": {
          "base_uri": "https://localhost:8080/"
        },
        "id": "xK-5hf__hppv",
        "outputId": "a0dfa44b-f1e0-4be4-a765-54a42c1b3060"
      },
      "source": [
        "df = df[:2000]\r\n",
        "df[1].value_counts()"
      ],
      "execution_count": 138,
      "outputs": [
        {
          "output_type": "execute_result",
          "data": {
            "text/plain": [
              "0    1022\n",
              "1     978\n",
              "Name: 1, dtype: int64"
            ]
          },
          "metadata": {
            "tags": []
          },
          "execution_count": 138
        }
      ]
    },
    {
      "cell_type": "code",
      "metadata": {
        "colab": {
          "base_uri": "https://localhost:8080/",
          "height": 402
        },
        "id": "1sjkFhU4iG2y",
        "outputId": "995a7c9a-e3fc-48fb-e78e-5388eeb3c520"
      },
      "source": [
        "df"
      ],
      "execution_count": 139,
      "outputs": [
        {
          "output_type": "execute_result",
          "data": {
            "text/html": [
              "<div>\n",
              "<style scoped>\n",
              "    .dataframe tbody tr th:only-of-type {\n",
              "        vertical-align: middle;\n",
              "    }\n",
              "\n",
              "    .dataframe tbody tr th {\n",
              "        vertical-align: top;\n",
              "    }\n",
              "\n",
              "    .dataframe thead th {\n",
              "        text-align: right;\n",
              "    }\n",
              "</style>\n",
              "<table border=\"1\" class=\"dataframe\">\n",
              "  <thead>\n",
              "    <tr style=\"text-align: right;\">\n",
              "      <th></th>\n",
              "      <th>0</th>\n",
              "      <th>1</th>\n",
              "    </tr>\n",
              "  </thead>\n",
              "  <tbody>\n",
              "    <tr>\n",
              "      <th>0</th>\n",
              "      <td>: В Сирии сейчас больше снега , чем в Питере :))</td>\n",
              "      <td>1</td>\n",
              "    </tr>\n",
              "    <tr>\n",
              "      <th>1</th>\n",
              "      <td>Хе-хе-хехе! А потом они будут  блеять перед ка...</td>\n",
              "      <td>1</td>\n",
              "    </tr>\n",
              "    <tr>\n",
              "      <th>2</th>\n",
              "      <td>ну это же не по прааавилааам(((</td>\n",
              "      <td>0</td>\n",
              "    </tr>\n",
              "    <tr>\n",
              "      <th>3</th>\n",
              "      <td>Мы седели в троем  ,   и я:) а тут пришли еще ...</td>\n",
              "      <td>1</td>\n",
              "    </tr>\n",
              "    <tr>\n",
              "      <th>4</th>\n",
              "      <td>я могла всегда поднять настроение сама себе, н...</td>\n",
              "      <td>0</td>\n",
              "    </tr>\n",
              "    <tr>\n",
              "      <th>...</th>\n",
              "      <td>...</td>\n",
              "      <td>...</td>\n",
              "    </tr>\n",
              "    <tr>\n",
              "      <th>1995</th>\n",
              "      <td>Так устала сегодня , ужас ( Вот что значит, ко...</td>\n",
              "      <td>0</td>\n",
              "    </tr>\n",
              "    <tr>\n",
              "      <th>1996</th>\n",
              "      <td>жесть, во сколько бы я не легла встаю около 11...</td>\n",
              "      <td>0</td>\n",
              "    </tr>\n",
              "    <tr>\n",
              "      <th>1997</th>\n",
              "      <td>бля, я только рассказывал:  там целых шесть тв...</td>\n",
              "      <td>1</td>\n",
              "    </tr>\n",
              "    <tr>\n",
              "      <th>1998</th>\n",
              "      <td>Маман не дает по телеку сверхов посмотреть....:(</td>\n",
              "      <td>0</td>\n",
              "    </tr>\n",
              "    <tr>\n",
              "      <th>1999</th>\n",
              "      <td>хм.. ну там бумажка вкладывается в листик лами...</td>\n",
              "      <td>1</td>\n",
              "    </tr>\n",
              "  </tbody>\n",
              "</table>\n",
              "<p>2000 rows × 2 columns</p>\n",
              "</div>"
            ],
            "text/plain": [
              "                                                      0  1\n",
              "0      : В Сирии сейчас больше снега , чем в Питере :))  1\n",
              "1     Хе-хе-хехе! А потом они будут  блеять перед ка...  1\n",
              "2                       ну это же не по прааавилааам(((  0\n",
              "3     Мы седели в троем  ,   и я:) а тут пришли еще ...  1\n",
              "4     я могла всегда поднять настроение сама себе, н...  0\n",
              "...                                                 ... ..\n",
              "1995  Так устала сегодня , ужас ( Вот что значит, ко...  0\n",
              "1996  жесть, во сколько бы я не легла встаю около 11...  0\n",
              "1997  бля, я только рассказывал:  там целых шесть тв...  1\n",
              "1998   Маман не дает по телеку сверхов посмотреть....:(  0\n",
              "1999  хм.. ну там бумажка вкладывается в листик лами...  1\n",
              "\n",
              "[2000 rows x 2 columns]"
            ]
          },
          "metadata": {
            "tags": []
          },
          "execution_count": 139
        }
      ]
    },
    {
      "cell_type": "markdown",
      "metadata": {
        "id": "RCmOFtvYhppv"
      },
      "source": [
        "# Loading model"
      ]
    },
    {
      "cell_type": "code",
      "metadata": {
        "id": "3naBAhBdhppv"
      },
      "source": [
        "model_name = \"DeepPavlov/rubert-base-cased-conversational\"\n",
        "\n",
        "tokenizer = transformers.AutoTokenizer.from_pretrained(model_name)\n",
        "model = transformers.AutoModel.from_pretrained(model_name)"
      ],
      "execution_count": 140,
      "outputs": []
    },
    {
      "cell_type": "markdown",
      "metadata": {
        "id": "CVvLFpsHhppw"
      },
      "source": [
        "# Preparing the Dataset"
      ]
    },
    {
      "cell_type": "code",
      "metadata": {
        "id": "9P03R-Pqhppx"
      },
      "source": [
        "tokenized = df[0].apply((lambda x: tokenizer.encode(x, add_special_tokens=True)))"
      ],
      "execution_count": 141,
      "outputs": []
    },
    {
      "cell_type": "code",
      "metadata": {
        "id": "mSPUYsEdhppx"
      },
      "source": [
        "max_len = 0\n",
        "for i in tokenized.values:\n",
        "    if len(i) > max_len:\n",
        "        max_len = len(i)\n",
        "\n",
        "padded = np.array([i + [0]*(max_len-len(i)) for i in tokenized.values])"
      ],
      "execution_count": 142,
      "outputs": []
    },
    {
      "cell_type": "code",
      "metadata": {
        "colab": {
          "base_uri": "https://localhost:8080/"
        },
        "id": "FXdi4OV5hppx",
        "outputId": "9b44bfc8-e5e2-4986-cf24-527fa1247d1c"
      },
      "source": [
        "np.array(padded).shape"
      ],
      "execution_count": 143,
      "outputs": [
        {
          "output_type": "execute_result",
          "data": {
            "text/plain": [
              "(2000, 88)"
            ]
          },
          "metadata": {
            "tags": []
          },
          "execution_count": 143
        }
      ]
    },
    {
      "cell_type": "code",
      "metadata": {
        "colab": {
          "base_uri": "https://localhost:8080/"
        },
        "id": "ZCeV7FKHhppy",
        "outputId": "e5010c2f-aa33-46f3-94b8-f59f8469e3a1"
      },
      "source": [
        "attention_mask = np.where(padded != 0, 1, 0)\n",
        "attention_mask.shape"
      ],
      "execution_count": 144,
      "outputs": [
        {
          "output_type": "execute_result",
          "data": {
            "text/plain": [
              "(2000, 88)"
            ]
          },
          "metadata": {
            "tags": []
          },
          "execution_count": 144
        }
      ]
    },
    {
      "cell_type": "markdown",
      "metadata": {
        "id": "FV723WvYhppz"
      },
      "source": [
        "## Train"
      ]
    },
    {
      "cell_type": "code",
      "metadata": {
        "id": "x0UBorfXhppz"
      },
      "source": [
        "input_ids = torch.tensor(padded).to(torch.int64)\n",
        "attention_mask = torch.tensor(attention_mask)\n",
        "\n",
        "with torch.no_grad():\n",
        "    last_hidden_states = model(input_ids, attention_mask=attention_mask)"
      ],
      "execution_count": 145,
      "outputs": []
    },
    {
      "cell_type": "code",
      "metadata": {
        "colab": {
          "base_uri": "https://localhost:8080/"
        },
        "id": "P4_QMSx4p5dK",
        "outputId": "55fa176a-65e0-4818-de7e-069654e874f6"
      },
      "source": [
        "last_hidden_states"
      ],
      "execution_count": 146,
      "outputs": [
        {
          "output_type": "execute_result",
          "data": {
            "text/plain": [
              "BaseModelOutputWithPoolingAndCrossAttentions([('last_hidden_state',\n",
              "                                               tensor([[[-0.7776,  0.3477, -1.3833,  ...,  0.0406,  0.8057, -0.2731],\n",
              "                                                        [-0.2460,  0.3605, -0.2855,  ...,  0.5049,  0.3040,  0.1113],\n",
              "                                                        [ 0.4525,  0.2480,  0.0515,  ...,  0.9382,  0.2351,  0.9238],\n",
              "                                                        ...,\n",
              "                                                        [ 0.0600,  0.5781, -0.5176,  ...,  0.5192,  0.0973,  0.5347],\n",
              "                                                        [ 0.5297,  0.6325, -0.3973,  ...,  0.2517,  0.3921,  0.6416],\n",
              "                                                        [ 0.0108,  0.7864, -0.1998,  ..., -0.0957, -0.0854,  0.8079]],\n",
              "                                               \n",
              "                                                       [[ 0.3562, -0.0753, -0.6140,  ...,  0.3549,  0.5990, -0.8195],\n",
              "                                                        [ 0.0592, -0.4715,  0.3163,  ...,  0.2394,  0.7988, -1.0764],\n",
              "                                                        [ 0.8422, -0.2845,  0.1344,  ...,  0.8590,  0.9920, -0.5017],\n",
              "                                                        ...,\n",
              "                                                        [ 0.1586, -0.2757, -0.4581,  ...,  0.7370,  0.6056, -0.6134],\n",
              "                                                        [ 0.4768, -0.9099,  0.4356,  ...,  0.9118,  0.5067, -0.4847],\n",
              "                                                        [-0.4167,  0.0755, -0.3261,  ...,  0.9931,  0.4010, -1.0294]],\n",
              "                                               \n",
              "                                                       [[-0.7587, -0.2338, -1.3571,  ..., -0.7935,  0.9797, -1.0441],\n",
              "                                                        [-0.2531, -0.3851, -0.3657,  ...,  0.2296,  0.8908, -0.9575],\n",
              "                                                        [ 0.1782, -0.0895, -0.8304,  ..., -0.7103,  0.7228, -1.1831],\n",
              "                                                        ...,\n",
              "                                                        [-0.2139, -0.2967, -0.7783,  ..., -0.3878,  1.2805, -0.8895],\n",
              "                                                        [-0.2333, -0.1537, -1.2561,  ..., -0.7909,  0.9785, -1.1833],\n",
              "                                                        [-0.2211,  0.1348, -1.2238,  ..., -1.0346,  0.9928, -0.9924]],\n",
              "                                               \n",
              "                                                       ...,\n",
              "                                               \n",
              "                                                       [[ 0.1068, -0.6313, -0.6207,  ..., -0.6596,  0.9845, -1.3417],\n",
              "                                                        [ 1.2304, -1.1315, -0.1895,  ..., -0.1303,  0.2156, -0.3628],\n",
              "                                                        [ 0.7901, -1.1301, -0.4475,  ...,  0.0056,  0.1873, -0.5483],\n",
              "                                                        ...,\n",
              "                                                        [ 0.8766, -0.1704,  0.3257,  ...,  0.0023,  0.3339, -0.7214],\n",
              "                                                        [ 0.7801, -0.9400, -0.3646,  ..., -0.4725,  0.4647, -0.8276],\n",
              "                                                        [ 1.2791, -1.0648, -0.1701,  ..., -0.6593,  0.3117, -1.1217]],\n",
              "                                               \n",
              "                                                       [[-0.4456, -0.2536, -0.9887,  ..., -0.4114,  0.5032, -1.2799],\n",
              "                                                        [-0.1999, -0.0462,  0.4788,  ..., -0.6783, -0.3114, -0.7673],\n",
              "                                                        [-0.7382, -0.1245,  0.3282,  ...,  0.6722,  0.1115, -0.9334],\n",
              "                                                        ...,\n",
              "                                                        [ 0.1778, -0.5146, -0.2475,  ..., -0.4489,  0.7087, -0.7042],\n",
              "                                                        [-0.2029, -0.1387,  0.2117,  ...,  0.0842,  0.4637, -0.8307],\n",
              "                                                        [ 0.1255, -0.0813,  0.1451,  ..., -0.0084,  0.6050, -0.5767]],\n",
              "                                               \n",
              "                                                       [[-0.5703,  0.3053, -1.1405,  ..., -0.0104,  0.8167, -1.3669],\n",
              "                                                        [ 0.3169, -0.1969, -0.3477,  ...,  1.1543,  0.3074, -1.0804],\n",
              "                                                        [-0.3222, -0.3745, -0.6137,  ...,  1.4543, -0.1321, -0.1095],\n",
              "                                                        ...,\n",
              "                                                        [ 0.2389,  0.8476,  0.0876,  ..., -0.3286,  0.5332, -0.3196],\n",
              "                                                        [-0.0591,  0.9257,  0.1991,  ..., -0.5595, -0.2508, -0.2568],\n",
              "                                                        [ 0.0181,  0.9906,  0.1560,  ..., -0.4561, -0.4692, -0.3677]]])),\n",
              "                                              ('pooler_output',\n",
              "                                               tensor([[-3.0593e-01,  6.5257e-01, -6.9476e-01,  ...,  8.5201e-01,\n",
              "                                                        -5.0563e-01, -3.3652e-01],\n",
              "                                                       [ 3.4242e-01,  1.2221e-01,  2.4309e-01,  ..., -5.6282e-01,\n",
              "                                                         7.6104e-02,  3.6226e-01],\n",
              "                                                       [-3.3574e-01,  5.1444e-01, -7.1952e-01,  ...,  8.5290e-01,\n",
              "                                                        -6.8932e-01, -4.6280e-01],\n",
              "                                                       ...,\n",
              "                                                       [-4.6886e-01,  5.2411e-01, -6.8347e-01,  ...,  9.2725e-01,\n",
              "                                                        -6.0353e-01, -5.9209e-01],\n",
              "                                                       [ 2.1140e-04,  3.8707e-01, -4.0053e-01,  ...,  2.2282e-01,\n",
              "                                                        -3.1562e-01, -2.2371e-02],\n",
              "                                                       [-6.4042e-01,  7.1510e-01, -8.5599e-01,  ...,  9.7095e-01,\n",
              "                                                        -7.4582e-01, -7.4041e-01]]))])"
            ]
          },
          "metadata": {
            "tags": []
          },
          "execution_count": 146
        }
      ]
    },
    {
      "cell_type": "code",
      "metadata": {
        "colab": {
          "base_uri": "https://localhost:8080/"
        },
        "id": "0y2RKwu2hppz",
        "outputId": "e86bc412-97ce-4c1f-a3b4-3bfd021d55ef"
      },
      "source": [
        "features = last_hidden_states[0][:,0,:].numpy()  \r\n",
        "len(features[0])"
      ],
      "execution_count": 147,
      "outputs": [
        {
          "output_type": "execute_result",
          "data": {
            "text/plain": [
              "768"
            ]
          },
          "metadata": {
            "tags": []
          },
          "execution_count": 147
        }
      ]
    },
    {
      "cell_type": "code",
      "metadata": {
        "id": "WIgG_3JOhpp0"
      },
      "source": [
        "labels = df[1]"
      ],
      "execution_count": 148,
      "outputs": []
    },
    {
      "cell_type": "markdown",
      "metadata": {
        "id": "AxXYRc4eice9"
      },
      "source": [
        "# Model #2: Train"
      ]
    },
    {
      "cell_type": "code",
      "metadata": {
        "id": "zVZvfjk0hpp0"
      },
      "source": [
        "train_features, test_features, train_labels, test_labels = train_test_split(features, labels)"
      ],
      "execution_count": 149,
      "outputs": []
    },
    {
      "cell_type": "code",
      "metadata": {
        "id": "LxuYPbj2hpp0",
        "colab": {
          "base_uri": "https://localhost:8080/"
        },
        "outputId": "854c0b49-f96d-405d-eca5-3ea602920a73"
      },
      "source": [
        "lr_clf = LogisticRegression()\r\n",
        "lr_clf.fit(train_features, train_labels)"
      ],
      "execution_count": 150,
      "outputs": [
        {
          "output_type": "execute_result",
          "data": {
            "text/plain": [
              "LogisticRegression(C=1.0, class_weight=None, dual=False, fit_intercept=True,\n",
              "                   intercept_scaling=1, l1_ratio=None, max_iter=100,\n",
              "                   multi_class='auto', n_jobs=None, penalty='l2',\n",
              "                   random_state=None, solver='lbfgs', tol=0.0001, verbose=0,\n",
              "                   warm_start=False)"
            ]
          },
          "metadata": {
            "tags": []
          },
          "execution_count": 150
        }
      ]
    },
    {
      "cell_type": "code",
      "metadata": {
        "id": "e9-f_KQZhpp0",
        "colab": {
          "base_uri": "https://localhost:8080/"
        },
        "outputId": "8f174b8c-e571-4c53-b0f2-d712aaf40976"
      },
      "source": [
        "lr_clf.score(test_features, test_labels)"
      ],
      "execution_count": 151,
      "outputs": [
        {
          "output_type": "execute_result",
          "data": {
            "text/plain": [
              "0.952"
            ]
          },
          "metadata": {
            "tags": []
          },
          "execution_count": 151
        }
      ]
    },
    {
      "cell_type": "code",
      "metadata": {
        "id": "AJwLoddOhpp1",
        "colab": {
          "base_uri": "https://localhost:8080/"
        },
        "outputId": "91c3fa06-b822-4453-ec5c-0a946562e2bd"
      },
      "source": [
        "pred = lr_clf.predict(test_features)\r\n",
        "print('Accuracy of logistic regression classifier on test set: {:.2f}'.format(lr_clf.score(test_features, test_labels)))"
      ],
      "execution_count": 152,
      "outputs": [
        {
          "output_type": "stream",
          "text": [
            "Accuracy of logistic regression classifier on test set: 0.95\n"
          ],
          "name": "stdout"
        }
      ]
    },
    {
      "cell_type": "code",
      "metadata": {
        "id": "6PKoaxM4hpp1",
        "colab": {
          "base_uri": "https://localhost:8080/"
        },
        "outputId": "4db157ca-dadf-4038-cd05-170dbb4446c0"
      },
      "source": [
        "from sklearn.metrics import confusion_matrix\r\n",
        "confusion_matrix = confusion_matrix(test_labels, pred)\r\n",
        "print(confusion_matrix)"
      ],
      "execution_count": 153,
      "outputs": [
        {
          "output_type": "stream",
          "text": [
            "[[226  13]\n",
            " [ 11 250]]\n"
          ],
          "name": "stdout"
        }
      ]
    },
    {
      "cell_type": "code",
      "metadata": {
        "id": "qvJ6Dxwzhpp1",
        "colab": {
          "base_uri": "https://localhost:8080/",
          "height": 286
        },
        "outputId": "ee06de31-ba41-4524-87bc-818dd8d895e9"
      },
      "source": [
        "df = pd.DataFrame(confusion_matrix, index = [\"Positive\", \"Negative\"], columns = [\"Positive\", \"Negative\"])\r\n",
        "sns.heatmap(df)"
      ],
      "execution_count": 154,
      "outputs": [
        {
          "output_type": "execute_result",
          "data": {
            "text/plain": [
              "<matplotlib.axes._subplots.AxesSubplot at 0x7fb715ca6e10>"
            ]
          },
          "metadata": {
            "tags": []
          },
          "execution_count": 154
        },
        {
          "output_type": "display_data",
          "data": {
            "image/png": "[encoded data removed]",
            "text/plain": [
              "<Figure size 432x288 with 2 Axes>"
            ]
          },
          "metadata": {
            "tags": [],
            "needs_background": "light"
          }
        }
      ]
    },
    {
      "cell_type": "markdown",
      "metadata": {
        "id": "ye6eqDSOBmjA"
      },
      "source": [
        "# Pipeline"
      ]
    },
    {
      "cell_type": "code",
      "metadata": {
        "id": "J1HyAJEfhpp2"
      },
      "source": [
        "@torch.no_grad()\r\n",
        "def predict(text):\r\n",
        "    text = preprocess1(text)\r\n",
        "    tokenized = tokenizer.encode(text, add_special_tokens=True)\r\n",
        "    input = torch.tensor([tokenized]).to(torch.int64)\r\n",
        "\r\n",
        "    \r\n",
        "    last_hidden_states = model(input)\r\n",
        "\r\n",
        "    features = last_hidden_states[0][:,0,:].numpy()\r\n",
        "\r\n",
        "    pred = lr_clf.predict(features)\r\n",
        "    if pred[0] == 1:\r\n",
        "        print(\"Positive\")\r\n",
        "    else:\r\n",
        "        print(\"Negative\")"
      ],
      "execution_count": 162,
      "outputs": []
    },
    {
      "cell_type": "code",
      "metadata": {
        "colab": {
          "base_uri": "https://localhost:8080/"
        },
        "id": "slFvT4R8CDFq",
        "outputId": "30680130-a897-40f5-e15e-399fffa078ba"
      },
      "source": [
        "predict(\"У меня получилось обучить модель!\")"
      ],
      "execution_count": 163,
      "outputs": [
        {
          "output_type": "stream",
          "text": [
            "Positive\n"
          ],
          "name": "stdout"
        }
      ]
    },
    {
      "cell_type": "code",
      "metadata": {
        "id": "hQUbA3F-hpp2",
        "colab": {
          "base_uri": "https://localhost:8080/"
        },
        "outputId": "dfa9ff49-3202-48b4-b8b8-f02a4b814395"
      },
      "source": [
        "predict(\"Она работает очень быстро!\")"
      ],
      "execution_count": 168,
      "outputs": [
        {
          "output_type": "stream",
          "text": [
            "Positive\n"
          ],
          "name": "stdout"
        }
      ]
    },
    {
      "cell_type": "code",
      "metadata": {
        "colab": {
          "base_uri": "https://localhost:8080/"
        },
        "id": "TLFlkmgwRx2d",
        "outputId": "fef33035-b45e-47fa-f7e4-39b60d54259c"
      },
      "source": [
        "predict(\"Жалко, что я сразу не нашел ошибку\")"
      ],
      "execution_count": 165,
      "outputs": [
        {
          "output_type": "stream",
          "text": [
            "Negative\n"
          ],
          "name": "stdout"
        }
      ]
    },
    {
      "cell_type": "code",
      "metadata": {
        "colab": {
          "base_uri": "https://localhost:8080/"
        },
        "id": "S1ussh-uSTWA",
        "outputId": "8e0c8f75-ed05-4759-a663-f02732930960"
      },
      "source": [
        "predict(\"Я люблю трансформеры\")"
      ],
      "execution_count": 166,
      "outputs": [
        {
          "output_type": "stream",
          "text": [
            "Positive\n"
          ],
          "name": "stdout"
        }
      ]
    },
    {
      "cell_type": "code",
      "metadata": {
        "id": "o4q1qBdeRKAi"
      },
      "source": [
        ""
      ],
      "execution_count": null,
      "outputs": []
    }
  ]
}